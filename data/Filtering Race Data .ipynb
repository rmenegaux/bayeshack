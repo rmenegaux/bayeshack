{
 "cells": [
  {
   "cell_type": "code",
   "execution_count": 1,
   "metadata": {
    "collapsed": true
   },
   "outputs": [],
   "source": [
    "import pandas as pd\n",
    "import numpy as np"
   ]
  },
  {
   "cell_type": "code",
   "execution_count": 2,
   "metadata": {
    "collapsed": false
   },
   "outputs": [
    {
     "name": "stdout",
     "output_type": "stream",
     "text": [
      "['GEO.id2' 'HC03_VC03' 'HC03_VC04' 'HC03_VC05' 'HC03_VC07' 'HC03_VC08'\n",
      " 'HC03_VC09' 'HC03_VC10' 'HC03_VC11' 'HC03_VC12' 'HC03_VC13' 'HC03_VC14'\n",
      " 'HC03_VC15' 'HC03_VC16' 'HC03_VC17' 'HC03_VC18' 'HC03_VC19' 'HC03_VC21'\n",
      " 'HC03_VC23' 'HC03_VC24' 'HC03_VC25' 'HC03_VC26' 'HC03_VC28' 'HC03_VC29'\n",
      " 'HC03_VC30' 'HC03_VC32' 'HC03_VC33' 'HC03_VC34' 'HC03_VC38' 'HC03_VC39'\n",
      " 'HC03_VC40' 'HC03_VC42' 'HC03_VC43' 'HC03_VC44' 'HC03_VC45' 'HC03_VC50'\n",
      " 'HC03_VC58' 'HC03_VC63' 'HC03_VC64' 'HC03_VC71' 'HC03_VC72' 'HC03_VC73'\n",
      " 'HC03_VC74' 'HC03_VC75' 'HC03_VC76' 'HC03_VC77' 'HC03_VC81' 'HC03_VC82'\n",
      " 'HC03_VC87' 'HC03_VC88' 'HC03_VC89' 'HC03_VC90' 'HC03_VC91' 'HC03_VC92'\n",
      " 'HC03_VC93' 'HC03_VC94' 'HC03_VC98']\n"
     ]
    }
   ],
   "source": [
    "data = pd.read_csv('./CensusData/sfo data/dem_sf_county_2010.csv')\n",
    "columns = data.columns[data.iloc[0, :].str.startswith('Percent;')].values\n",
    "final_columns = np.append(['GEO.id2'], columns)\n",
    "print final_columns"
   ]
  },
  {
   "cell_type": "code",
   "execution_count": 3,
   "metadata": {
    "collapsed": false
   },
   "outputs": [
    {
     "name": "stdout",
     "output_type": "stream",
     "text": [
      "['Id2' 'Percent; HISPANIC OR LATINO AND RACE - Total population'\n",
      " 'Percent; HISPANIC OR LATINO AND RACE - Hispanic or Latino (of any race)'\n",
      " 'Percent; HISPANIC OR LATINO AND RACE - Not Hispanic or Latino'\n",
      " 'Percent; HISPANIC OR LATINO AND RACE - Not Hispanic or Latino - White alone'\n",
      " 'Percent; HISPANIC OR LATINO AND RACE - Not Hispanic or Latino - Black or African American alone'\n",
      " 'Percent; HISPANIC OR LATINO AND RACE - Not Hispanic or Latino - American Indian and Alaska Native alone'\n",
      " 'Percent; HISPANIC OR LATINO AND RACE - Not Hispanic or Latino - Asian alone'\n",
      " 'Percent; HISPANIC OR LATINO AND RACE - Not Hispanic or Latino - Native Hawaiian and Other Pacific Islander alone'\n",
      " 'Percent; HISPANIC OR LATINO AND RACE - Not Hispanic or Latino - Some other race alone'\n",
      " 'Percent; HISPANIC OR LATINO AND RACE - Not Hispanic or Latino - Two or more races'\n",
      " 'Percent; HISPANIC OR LATINO AND RACE - Total housing units']\n"
     ]
    }
   ],
   "source": [
    "pct_data = data.loc[:, final_columns]\n",
    "hisp_columns = pct_data.columns[pct_data.iloc[0, :].str.startswith('Percent; HISP')].values\n",
    "hisp_columns = np.append(['GEO.id2'], hisp_columns)\n",
    "print pct_data.loc[0, hisp_columns].values"
   ]
  },
  {
   "cell_type": "code",
   "execution_count": 4,
   "metadata": {
    "collapsed": false
   },
   "outputs": [
    {
     "data": {
      "text/html": [
       "<div>\n",
       "<table border=\"1\" class=\"dataframe\">\n",
       "  <thead>\n",
       "    <tr style=\"text-align: right;\">\n",
       "      <th></th>\n",
       "      <th>Id2</th>\n",
       "      <th>Percent; HISPANIC OR LATINO AND RACE - Total population</th>\n",
       "      <th>Percent; HISPANIC OR LATINO AND RACE - Hispanic or Latino (of any race)</th>\n",
       "      <th>Percent; HISPANIC OR LATINO AND RACE - Not Hispanic or Latino</th>\n",
       "      <th>Percent; HISPANIC OR LATINO AND RACE - Not Hispanic or Latino - White alone</th>\n",
       "      <th>Percent; HISPANIC OR LATINO AND RACE - Not Hispanic or Latino - Black or African American alone</th>\n",
       "      <th>Percent; HISPANIC OR LATINO AND RACE - Not Hispanic or Latino - American Indian and Alaska Native alone</th>\n",
       "      <th>Percent; HISPANIC OR LATINO AND RACE - Not Hispanic or Latino - Asian alone</th>\n",
       "      <th>Percent; HISPANIC OR LATINO AND RACE - Not Hispanic or Latino - Native Hawaiian and Other Pacific Islander alone</th>\n",
       "      <th>Percent; HISPANIC OR LATINO AND RACE - Not Hispanic or Latino - Some other race alone</th>\n",
       "      <th>Percent; HISPANIC OR LATINO AND RACE - Not Hispanic or Latino - Two or more races</th>\n",
       "      <th>Percent; HISPANIC OR LATINO AND RACE - Total housing units</th>\n",
       "    </tr>\n",
       "  </thead>\n",
       "  <tbody>\n",
       "    <tr>\n",
       "      <th>1</th>\n",
       "      <td>06075010100</td>\n",
       "      <td>3744</td>\n",
       "      <td>6.3</td>\n",
       "      <td>93.7</td>\n",
       "      <td>43.4</td>\n",
       "      <td>14.0</td>\n",
       "      <td>0.0</td>\n",
       "      <td>34.1</td>\n",
       "      <td>0.7</td>\n",
       "      <td>0.0</td>\n",
       "      <td>1.5</td>\n",
       "      <td>(X)</td>\n",
       "    </tr>\n",
       "    <tr>\n",
       "      <th>2</th>\n",
       "      <td>06075010200</td>\n",
       "      <td>4184</td>\n",
       "      <td>11.5</td>\n",
       "      <td>88.5</td>\n",
       "      <td>76.3</td>\n",
       "      <td>1.0</td>\n",
       "      <td>0.0</td>\n",
       "      <td>9.2</td>\n",
       "      <td>0.0</td>\n",
       "      <td>0.0</td>\n",
       "      <td>2.0</td>\n",
       "      <td>(X)</td>\n",
       "    </tr>\n",
       "    <tr>\n",
       "      <th>3</th>\n",
       "      <td>06075010300</td>\n",
       "      <td>4285</td>\n",
       "      <td>5.6</td>\n",
       "      <td>94.4</td>\n",
       "      <td>55.9</td>\n",
       "      <td>2.2</td>\n",
       "      <td>0.0</td>\n",
       "      <td>33.7</td>\n",
       "      <td>0.0</td>\n",
       "      <td>0.0</td>\n",
       "      <td>2.6</td>\n",
       "      <td>(X)</td>\n",
       "    </tr>\n",
       "    <tr>\n",
       "      <th>4</th>\n",
       "      <td>06075010400</td>\n",
       "      <td>4154</td>\n",
       "      <td>6.8</td>\n",
       "      <td>93.2</td>\n",
       "      <td>62.3</td>\n",
       "      <td>0.0</td>\n",
       "      <td>0.0</td>\n",
       "      <td>27.9</td>\n",
       "      <td>0.0</td>\n",
       "      <td>1.7</td>\n",
       "      <td>1.2</td>\n",
       "      <td>(X)</td>\n",
       "    </tr>\n",
       "    <tr>\n",
       "      <th>5</th>\n",
       "      <td>06075010500</td>\n",
       "      <td>2429</td>\n",
       "      <td>5.7</td>\n",
       "      <td>94.3</td>\n",
       "      <td>76.0</td>\n",
       "      <td>0.5</td>\n",
       "      <td>0.0</td>\n",
       "      <td>13.1</td>\n",
       "      <td>0.0</td>\n",
       "      <td>1.9</td>\n",
       "      <td>3.0</td>\n",
       "      <td>(X)</td>\n",
       "    </tr>\n",
       "  </tbody>\n",
       "</table>\n",
       "</div>"
      ],
      "text/plain": [
       "           Id2 Percent; HISPANIC OR LATINO AND RACE - Total population  \\\n",
       "1  06075010100                                               3744        \n",
       "2  06075010200                                               4184        \n",
       "3  06075010300                                               4285        \n",
       "4  06075010400                                               4154        \n",
       "5  06075010500                                               2429        \n",
       "\n",
       "  Percent; HISPANIC OR LATINO AND RACE - Hispanic or Latino (of any race)  \\\n",
       "1                                                6.3                        \n",
       "2                                               11.5                        \n",
       "3                                                5.6                        \n",
       "4                                                6.8                        \n",
       "5                                                5.7                        \n",
       "\n",
       "  Percent; HISPANIC OR LATINO AND RACE - Not Hispanic or Latino  \\\n",
       "1                                               93.7              \n",
       "2                                               88.5              \n",
       "3                                               94.4              \n",
       "4                                               93.2              \n",
       "5                                               94.3              \n",
       "\n",
       "  Percent; HISPANIC OR LATINO AND RACE - Not Hispanic or Latino - White alone  \\\n",
       "1                                               43.4                            \n",
       "2                                               76.3                            \n",
       "3                                               55.9                            \n",
       "4                                               62.3                            \n",
       "5                                               76.0                            \n",
       "\n",
       "  Percent; HISPANIC OR LATINO AND RACE - Not Hispanic or Latino - Black or African American alone  \\\n",
       "1                                               14.0                                                \n",
       "2                                                1.0                                                \n",
       "3                                                2.2                                                \n",
       "4                                                0.0                                                \n",
       "5                                                0.5                                                \n",
       "\n",
       "  Percent; HISPANIC OR LATINO AND RACE - Not Hispanic or Latino - American Indian and Alaska Native alone  \\\n",
       "1                                                0.0                                                        \n",
       "2                                                0.0                                                        \n",
       "3                                                0.0                                                        \n",
       "4                                                0.0                                                        \n",
       "5                                                0.0                                                        \n",
       "\n",
       "  Percent; HISPANIC OR LATINO AND RACE - Not Hispanic or Latino - Asian alone  \\\n",
       "1                                               34.1                            \n",
       "2                                                9.2                            \n",
       "3                                               33.7                            \n",
       "4                                               27.9                            \n",
       "5                                               13.1                            \n",
       "\n",
       "  Percent; HISPANIC OR LATINO AND RACE - Not Hispanic or Latino - Native Hawaiian and Other Pacific Islander alone  \\\n",
       "1                                                0.7                                                                 \n",
       "2                                                0.0                                                                 \n",
       "3                                                0.0                                                                 \n",
       "4                                                0.0                                                                 \n",
       "5                                                0.0                                                                 \n",
       "\n",
       "  Percent; HISPANIC OR LATINO AND RACE - Not Hispanic or Latino - Some other race alone  \\\n",
       "1                                                0.0                                      \n",
       "2                                                0.0                                      \n",
       "3                                                0.0                                      \n",
       "4                                                1.7                                      \n",
       "5                                                1.9                                      \n",
       "\n",
       "  Percent; HISPANIC OR LATINO AND RACE - Not Hispanic or Latino - Two or more races  \\\n",
       "1                                                1.5                                  \n",
       "2                                                2.0                                  \n",
       "3                                                2.6                                  \n",
       "4                                                1.2                                  \n",
       "5                                                3.0                                  \n",
       "\n",
       "  Percent; HISPANIC OR LATINO AND RACE - Total housing units  \n",
       "1                                                (X)          \n",
       "2                                                (X)          \n",
       "3                                                (X)          \n",
       "4                                                (X)          \n",
       "5                                                (X)          "
      ]
     },
     "execution_count": 4,
     "metadata": {},
     "output_type": "execute_result"
    }
   ],
   "source": [
    "hisp_data = pct_data.loc[:, hisp_columns]\n",
    "hisp_data.columns = hisp_data.iloc[0, :].values\n",
    "hisp_data = hisp_data.drop(0)\n",
    "hisp_data.head()"
   ]
  },
  {
   "cell_type": "code",
   "execution_count": 10,
   "metadata": {
    "collapsed": false
   },
   "outputs": [],
   "source": [
    "race_data = hisp_data.iloc[:, [0, 2, 4, 5, 6, 7, 8, 9, 10]]\n",
    "race_data.columns = ['tract_id', 'hispanic', 'white', 'black', 'american_indian', 'asian', 'pac_islander', 'other_races', \n",
    "                     'two_races']\n",
    "race_data.loc[:, 'tract_id'] = race_data.loc[:, 'tract_id'].str[1:]"
   ]
  },
  {
   "cell_type": "code",
   "execution_count": 11,
   "metadata": {
    "collapsed": false
   },
   "outputs": [],
   "source": [
    "race_data = race_data.set_index('tract_id')"
   ]
  },
  {
   "cell_type": "code",
   "execution_count": 12,
   "metadata": {
    "collapsed": false
   },
   "outputs": [],
   "source": [
    "race_data.to_csv('./CensusData/sfo data/race_data_2010.csv')"
   ]
  },
  {
   "cell_type": "code",
   "execution_count": null,
   "metadata": {
    "collapsed": true
   },
   "outputs": [],
   "source": []
  }
 ],
 "metadata": {
  "kernelspec": {
   "display_name": "Python 2",
   "language": "python",
   "name": "python2"
  },
  "language_info": {
   "codemirror_mode": {
    "name": "ipython",
    "version": 2
   },
   "file_extension": ".py",
   "mimetype": "text/x-python",
   "name": "python",
   "nbconvert_exporter": "python",
   "pygments_lexer": "ipython2",
   "version": "2.7.11"
  },
  "widgets": {
   "state": {},
   "version": "0.3.0"
  }
 },
 "nbformat": 4,
 "nbformat_minor": 0
}
