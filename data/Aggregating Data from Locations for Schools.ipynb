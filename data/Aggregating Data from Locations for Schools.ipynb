{
 "cells": [
  {
   "cell_type": "code",
   "execution_count": 15,
   "metadata": {
    "collapsed": true
   },
   "outputs": [],
   "source": [
    "import pandas as pd\n",
    "import numpy as np"
   ]
  },
  {
   "cell_type": "code",
   "execution_count": 3,
   "metadata": {
    "collapsed": false
   },
   "outputs": [],
   "source": [
    "tract_data = pd.read_csv('./CensusData/sfo data/census_data_plus_affordability.csv')"
   ]
  },
  {
   "cell_type": "code",
   "execution_count": 6,
   "metadata": {
    "collapsed": false
   },
   "outputs": [
    {
     "name": "stdout",
     "output_type": "stream",
     "text": [
      "Index([u'num_lep_1990', u'USPS', u'POP10', u'HU10', u'ALAND', u'AWATER',\n",
      "       u'ALAND_SQMI', u'AWATER_SQMI', u'INTPTLAT',\n",
      "       u'INTPTLONG                                                                                                                  ',\n",
      "       u'hispanic', u'white', u'black', u'american_indian', u'asian',\n",
      "       u'pac_islander', u'other_races', u'two_races', u'hh_type1_h',\n",
      "       u'hh_type1_t'],\n",
      "      dtype='object')\n"
     ]
    }
   ],
   "source": [
    "print tract_data.columns[-20:]"
   ]
  },
  {
   "cell_type": "code",
   "execution_count": 11,
   "metadata": {
    "collapsed": true
   },
   "outputs": [],
   "source": [
    "lats = tract_data.loc[:, ['INTPTLAT', 'INTPTLONG']]"
   ]
  },
  {
   "cell_type": "code",
   "execution_count": 17,
   "metadata": {
    "collapsed": false
   },
   "outputs": [
    {
     "data": {
      "text/plain": [
       "array([329], dtype=int64)"
      ]
     },
     "execution_count": 17,
     "metadata": {},
     "output_type": "execute_result"
    }
   ],
   "source": []
  },
  {
   "cell_type": "code",
   "execution_count": 18,
   "metadata": {
    "collapsed": true
   },
   "outputs": [],
   "source": [
    "new_columns = tract_data.columns.values\n",
    "new_columns[np.flatnonzero(tract_data.columns.str.startswith('INTPTLONG'))[0]] = 'INTPTLONG'\n",
    "tract_data.columns = new_columns\n",
    "lats = tract_data.loc[:, ['INTPTLAT', 'INTPTLONG']]\n",
    "tract_data.to_csv('./CensusData/sfo data/new_tract_data.csv')"
   ]
  },
  {
   "cell_type": "markdown",
   "metadata": {},
   "source": [
    "#### Adding Public Schools Data"
   ]
  },
  {
   "cell_type": "code",
   "execution_count": 28,
   "metadata": {
    "collapsed": false
   },
   "outputs": [],
   "source": [
    "from density_estimation import *"
   ]
  },
  {
   "cell_type": "code",
   "execution_count": 35,
   "metadata": {
    "collapsed": false
   },
   "outputs": [],
   "source": [
    "pts = lats.loc[20, :].values"
   ]
  },
  {
   "cell_type": "code",
   "execution_count": 36,
   "metadata": {
    "collapsed": true
   },
   "outputs": [],
   "source": [
    "pub_schools = pd.read_csv('./Schools/schools_public_pt.csv')"
   ]
  },
  {
   "cell_type": "code",
   "execution_count": 40,
   "metadata": {
    "collapsed": false
   },
   "outputs": [
    {
     "name": "stderr",
     "output_type": "stream",
     "text": [
      "c:\\users\\srinivas\\anaconda\\lib\\site-packages\\ipykernel\\__main__.py:1: FutureWarning: currently extract(expand=None) means expand=False (return Index/Series/DataFrame) but in a future version of pandas this will be changed to expand=True (return DataFrame)\n",
      "  if __name__ == '__main__':\n"
     ]
    }
   ],
   "source": [
    "df_schools_loc = pub_schools['the_geom'].str.extract('POINT \\((.*) (.*)\\)')"
   ]
  },
  {
   "cell_type": "code",
   "execution_count": 41,
   "metadata": {
    "collapsed": true
   },
   "outputs": [],
   "source": [
    "df_schools_loc = df_schools_loc.iloc[:, ::-1]"
   ]
  },
  {
   "cell_type": "code",
   "execution_count": 43,
   "metadata": {
    "collapsed": false
   },
   "outputs": [],
   "source": [
    "df_schools_loc.columns = ['Latitude', 'Longitude']"
   ]
  },
  {
   "cell_type": "code",
   "execution_count": 46,
   "metadata": {
    "collapsed": false
   },
   "outputs": [],
   "source": [
    "df_schools_loc = df_schools_loc.astype(float)"
   ]
  },
  {
   "cell_type": "code",
   "execution_count": 49,
   "metadata": {
    "collapsed": true
   },
   "outputs": [],
   "source": [
    "scores = np.ones(df_schools_loc.shape[0])"
   ]
  },
  {
   "cell_type": "code",
   "execution_count": 56,
   "metadata": {
    "collapsed": false
   },
   "outputs": [
    {
     "data": {
      "text/plain": [
       "1.9492909765348765"
      ]
     },
     "execution_count": 56,
     "metadata": {},
     "output_type": "execute_result"
    }
   ],
   "source": [
    "point_density(pts, df_schools_loc.values, kernel='gaussian', bw=1000.0)"
   ]
  },
  {
   "cell_type": "code",
   "execution_count": 69,
   "metadata": {
    "collapsed": true
   },
   "outputs": [],
   "source": [
    "scores = np.zeros(lats.shape[0])\n",
    "for i, p in enumerate(lats.values):\n",
    "    scores[i] = point_density(p, df_schools_loc.values, kernel='gaussian', bw=100.0)"
   ]
  },
  {
   "cell_type": "code",
   "execution_count": 70,
   "metadata": {
    "collapsed": true
   },
   "outputs": [],
   "source": [
    "from bqplot import pyplot as pl"
   ]
  },
  {
   "cell_type": "code",
   "execution_count": 71,
   "metadata": {
    "collapsed": true
   },
   "outputs": [],
   "source": [
    "pl.figure()\n",
    "pl.hist(scores)\n",
    "pl.show()"
   ]
  },
  {
   "cell_type": "code",
   "execution_count": 72,
   "metadata": {
    "collapsed": true
   },
   "outputs": [],
   "source": [
    "tract_data['pub_school_score'] = scores"
   ]
  },
  {
   "cell_type": "markdown",
   "metadata": {},
   "source": [
    "#### Adding Private Schools"
   ]
  },
  {
   "cell_type": "code",
   "execution_count": 73,
   "metadata": {
    "collapsed": true
   },
   "outputs": [],
   "source": [
    "private_schools = pd.read_csv('./Schools/pr_schools.csv')"
   ]
  },
  {
   "cell_type": "code",
   "execution_count": 74,
   "metadata": {
    "collapsed": true
   },
   "outputs": [],
   "source": [
    "pr_school_data = private_schools.values"
   ]
  },
  {
   "cell_type": "code",
   "execution_count": 79,
   "metadata": {
    "collapsed": false
   },
   "outputs": [],
   "source": [
    "pr_scores = np.zeros(lats.shape[0])\n",
    "for i, p in enumerate(lats.values):\n",
    "    pr_scores[i] = point_density(p, pr_scores, kernel='gaussian', bw=100.0)"
   ]
  },
  {
   "cell_type": "code",
   "execution_count": 81,
   "metadata": {
    "collapsed": true
   },
   "outputs": [],
   "source": [
    "tract_data['pr_school_score'] = pr_scores"
   ]
  },
  {
   "cell_type": "code",
   "execution_count": 82,
   "metadata": {
    "collapsed": true
   },
   "outputs": [],
   "source": [
    "tract_data.to_csv('./CensusData/sfo data/tract_data_with_schools.csv')"
   ]
  },
  {
   "cell_type": "code",
   "execution_count": null,
   "metadata": {
    "collapsed": true
   },
   "outputs": [],
   "source": []
  }
 ],
 "metadata": {
  "kernelspec": {
   "display_name": "Python 2",
   "language": "python",
   "name": "python2"
  },
  "language_info": {
   "codemirror_mode": {
    "name": "ipython",
    "version": 2
   },
   "file_extension": ".py",
   "mimetype": "text/x-python",
   "name": "python",
   "nbconvert_exporter": "python",
   "pygments_lexer": "ipython2",
   "version": "2.7.11"
  },
  "widgets": {
   "state": {
    "020f58e89933400b814281f2e94e01ee": {
     "views": []
    },
    "04e92545a85a4f7a9e2a41673d2e4dcc": {
     "views": []
    },
    "128e27e153a5440099a1b58946242a4e": {
     "views": []
    },
    "1561c7f9c611473c9475833277ccd900": {
     "views": []
    },
    "182f99d76c7a4a8d87c7b7089e987e42": {
     "views": []
    },
    "18b4e57c0ff642158cdc80c1c8ebb1d9": {
     "views": []
    },
    "1fde85db01b74bce83afd0ead96072b4": {
     "views": []
    },
    "2138a3f641054ef4add776fc9bc701c5": {
     "views": []
    },
    "229d2c7c91eb4a1889abf826b49e145e": {
     "views": []
    },
    "25a16c4307cc414ca8110b8cca0c4b96": {
     "views": []
    },
    "3cb90c8a97f4411e8fe696eaf9f2c5ce": {
     "views": []
    },
    "3f81662f08d34986a8eaaa8777828710": {
     "views": []
    },
    "4413a4c4e0074069872cc46f0c03eac3": {
     "views": []
    },
    "456834421d364befbfee1880c4da0506": {
     "views": []
    },
    "4b2fce38efb24fdf97fbab318554b3cb": {
     "views": []
    },
    "4ef80c91f3eb4c72bcd22aa21cc41c83": {
     "views": []
    },
    "5180e5c8f72b4358a5132019b4732530": {
     "views": []
    },
    "5ab26446fa8b4f6389e5a9e229009612": {
     "views": []
    },
    "5daa26905d9943f68162306c78fb7079": {
     "views": []
    },
    "5f0d62d82c49476585deadf428a87a4d": {
     "views": []
    },
    "5fd25eb868714bc8895853f1a797d155": {
     "views": []
    },
    "60b7733dd6554338af0d7420d1ee9718": {
     "views": []
    },
    "633cc7957f7f4ed2b87207cc3cb0ab65": {
     "views": []
    },
    "64dd564aed204daa9b1b924194b78a10": {
     "views": []
    },
    "653413087d654b2788d2a4b063f5a4f5": {
     "views": []
    },
    "654f3ae2b14944c785f589e2111bcb0c": {
     "views": []
    },
    "658fd8b3b07748f6828428a03fc9e1c6": {
     "views": []
    },
    "677885d5a8c84f75b09d262204f7d645": {
     "views": []
    },
    "6a465a8475e744ffbc72478b4d535a47": {
     "views": []
    },
    "6a466b692feb4785a5a1e4fd0e9c7a5f": {
     "views": []
    },
    "6e7c7fa232b04830b99291dba7c35c2d": {
     "views": []
    },
    "701d0fa3bc2948e8a1fc170012ee3276": {
     "views": []
    },
    "7acf149e0e5a464dab44bc90d15b8fcb": {
     "views": []
    },
    "7ad4895e495b44a2a9df5a894ed2a3c4": {
     "views": []
    },
    "7e91947325184d7ca302e9175e7b2266": {
     "views": []
    },
    "8dd04098cc074377b09d1eab47c1a2b9": {
     "views": []
    },
    "8dec3b20508a46c18328fdce647eca85": {
     "views": []
    },
    "9153b9ea54b24220bc792376f2767205": {
     "views": []
    },
    "93c30cf4d3a44fd2a44ffe98f5155397": {
     "views": []
    },
    "940c8441faac456ab631a093b5ff8a2a": {
     "views": []
    },
    "940fd658dd95454dbfc8f0d06ae051c1": {
     "views": []
    },
    "a954956a57014507b784c90cad4bb353": {
     "views": []
    },
    "acbd931645944c4ea129efda65cde866": {
     "views": []
    },
    "ad1a6d9f271e4fb8b57f6aecdcddcce9": {
     "views": []
    },
    "b15574d83a5a407897b8c4bce764fe71": {
     "views": []
    },
    "b7362b6b0e154f32aef3c008620a1828": {
     "views": []
    },
    "b8e6646b539b462f9abe8f8e75323593": {
     "views": []
    },
    "be00ab0043d24a30b0b08aefd4adfea6": {
     "views": []
    },
    "bf314207792d41cb802a43b7ef903a88": {
     "views": []
    },
    "c44045214f2a46fbafb98c98263062db": {
     "views": []
    },
    "cb946dba3938414ab491dff039405762": {
     "views": []
    },
    "cb98eda4f22c4a7a8ac86c2b95212517": {
     "views": []
    },
    "cd3f4a421e934e0690d34dd5e1b9d2a4": {
     "views": []
    },
    "d0d64fcc49af4226a4af61c7b43e7343": {
     "views": []
    },
    "d1a3522ad4fc415281c6428d58571c13": {
     "views": []
    },
    "d3cabde2c0a34ad191017f4907f2d980": {
     "views": []
    },
    "d99ccd93f0fa4e77af3278135c83241f": {
     "views": []
    },
    "e58dc1b8e1964e9f90888422ef785dee": {
     "views": [
      {
       "cell": {
        "cell_type": "code",
        "execution_count": 71,
        "metadata": {
         "collapsed": true,
         "trusted": true
        },
        "outputs": [],
        "source": "pl.figure()\npl.hist(scores)\npl.show()"
       },
       "cell_index": 18,
       "root": true
      }
     ]
    },
    "e9d9d003d0e34cf491a4b366ccfb6132": {
     "views": []
    },
    "ecf5de1118f34c7697d22da3d3cad059": {
     "views": []
    },
    "ef37ebc8474d405f9603f1b623617518": {
     "views": []
    },
    "f0d18990cbab47e7ad5d7a5612cff539": {
     "views": []
    },
    "f6c08a83c8e64b3fa20a4a7bb6cb814a": {
     "views": []
    },
    "f7e4926f7b3e4668b51ce204172c1b07": {
     "views": []
    },
    "fe3b1e5aa72d46c891bd4690dfe150da": {
     "views": []
    }
   },
   "version": "0.3.0"
  }
 },
 "nbformat": 4,
 "nbformat_minor": 0
}
