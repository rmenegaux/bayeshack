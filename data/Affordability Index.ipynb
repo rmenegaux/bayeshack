{
 "cells": [
  {
   "cell_type": "code",
   "execution_count": 1,
   "metadata": {
    "collapsed": true
   },
   "outputs": [],
   "source": [
    "import pandas as pd\n",
    "import numpy as np"
   ]
  },
  {
   "cell_type": "code",
   "execution_count": 2,
   "metadata": {
    "collapsed": true
   },
   "outputs": [],
   "source": [
    "data = pd.read_csv('./CensusData/sfo data/living_affordability_index_data.csv')"
   ]
  },
  {
   "cell_type": "code",
   "execution_count": 4,
   "metadata": {
    "collapsed": false
   },
   "outputs": [
    {
     "data": {
      "text/html": [
       "<div>\n",
       "<table border=\"1\" class=\"dataframe\">\n",
       "  <thead>\n",
       "    <tr style=\"text-align: right;\">\n",
       "      <th></th>\n",
       "      <th>tract</th>\n",
       "      <th>hh_type1_income_min</th>\n",
       "      <th>hh_type1_income_max</th>\n",
       "      <th>hh_type1_income</th>\n",
       "      <th>hh_type1_size</th>\n",
       "      <th>hh_type1_workers</th>\n",
       "      <th>hh_type1_ht</th>\n",
       "      <th>hh_type1_h</th>\n",
       "      <th>hh_type1_t</th>\n",
       "      <th>hh_type1_autos</th>\n",
       "      <th>...</th>\n",
       "      <th>hh_type8_t_own</th>\n",
       "      <th>hh_type8_autos_own</th>\n",
       "      <th>hh_type8_vmt_own</th>\n",
       "      <th>hh_type8_transit_trips_own</th>\n",
       "      <th>hh_type8_ht_rent</th>\n",
       "      <th>hh_type8_h_rent</th>\n",
       "      <th>hh_type8_t_rent</th>\n",
       "      <th>hh_type8_autos_rent</th>\n",
       "      <th>hh_type8_vmt_rent</th>\n",
       "      <th>hh_type8_transit_trips_rent</th>\n",
       "    </tr>\n",
       "  </thead>\n",
       "  <tbody>\n",
       "    <tr>\n",
       "      <th>0</th>\n",
       "      <td>'06001400100'</td>\n",
       "      <td>77183.0</td>\n",
       "      <td>77183.0</td>\n",
       "      <td>77183.0</td>\n",
       "      <td>2.65</td>\n",
       "      <td>1.19</td>\n",
       "      <td>47.28747</td>\n",
       "      <td>31.95903</td>\n",
       "      <td>15.32843</td>\n",
       "      <td>1.94773</td>\n",
       "      <td>...</td>\n",
       "      <td>16.13171</td>\n",
       "      <td>2.41000</td>\n",
       "      <td>27157.68000</td>\n",
       "      <td>89.60589</td>\n",
       "      <td>43.90211</td>\n",
       "      <td>29.15137</td>\n",
       "      <td>14.75074</td>\n",
       "      <td>2.08000</td>\n",
       "      <td>27157.68000</td>\n",
       "      <td>93.33947</td>\n",
       "    </tr>\n",
       "    <tr>\n",
       "      <th>1</th>\n",
       "      <td>'06001400200'</td>\n",
       "      <td>77183.0</td>\n",
       "      <td>77183.0</td>\n",
       "      <td>77183.0</td>\n",
       "      <td>2.65</td>\n",
       "      <td>1.19</td>\n",
       "      <td>43.23431</td>\n",
       "      <td>30.10330</td>\n",
       "      <td>13.13101</td>\n",
       "      <td>1.69130</td>\n",
       "      <td>...</td>\n",
       "      <td>14.36691</td>\n",
       "      <td>2.20462</td>\n",
       "      <td>22190.76540</td>\n",
       "      <td>199.78691</td>\n",
       "      <td>39.41608</td>\n",
       "      <td>26.68970</td>\n",
       "      <td>12.72638</td>\n",
       "      <td>1.81667</td>\n",
       "      <td>21875.40000</td>\n",
       "      <td>237.08225</td>\n",
       "    </tr>\n",
       "    <tr>\n",
       "      <th>2</th>\n",
       "      <td>'06001400300'</td>\n",
       "      <td>77183.0</td>\n",
       "      <td>77183.0</td>\n",
       "      <td>77183.0</td>\n",
       "      <td>2.65</td>\n",
       "      <td>1.19</td>\n",
       "      <td>40.66207</td>\n",
       "      <td>28.91199</td>\n",
       "      <td>11.75008</td>\n",
       "      <td>1.48722</td>\n",
       "      <td>...</td>\n",
       "      <td>13.67481</td>\n",
       "      <td>2.12180</td>\n",
       "      <td>20169.85726</td>\n",
       "      <td>259.30578</td>\n",
       "      <td>36.20240</td>\n",
       "      <td>24.44092</td>\n",
       "      <td>11.76148</td>\n",
       "      <td>1.66884</td>\n",
       "      <td>19600.63630</td>\n",
       "      <td>332.20771</td>\n",
       "    </tr>\n",
       "    <tr>\n",
       "      <th>3</th>\n",
       "      <td>'06001400400'</td>\n",
       "      <td>77183.0</td>\n",
       "      <td>77183.0</td>\n",
       "      <td>77183.0</td>\n",
       "      <td>2.65</td>\n",
       "      <td>1.19</td>\n",
       "      <td>39.16281</td>\n",
       "      <td>27.41638</td>\n",
       "      <td>11.74643</td>\n",
       "      <td>1.49303</td>\n",
       "      <td>...</td>\n",
       "      <td>13.57546</td>\n",
       "      <td>2.11423</td>\n",
       "      <td>19816.89993</td>\n",
       "      <td>264.92679</td>\n",
       "      <td>38.84974</td>\n",
       "      <td>26.93194</td>\n",
       "      <td>11.91780</td>\n",
       "      <td>1.70589</td>\n",
       "      <td>19597.30281</td>\n",
       "      <td>333.06634</td>\n",
       "    </tr>\n",
       "    <tr>\n",
       "      <th>4</th>\n",
       "      <td>'06001400500'</td>\n",
       "      <td>77183.0</td>\n",
       "      <td>77183.0</td>\n",
       "      <td>77183.0</td>\n",
       "      <td>2.65</td>\n",
       "      <td>1.19</td>\n",
       "      <td>41.00672</td>\n",
       "      <td>29.56183</td>\n",
       "      <td>11.44490</td>\n",
       "      <td>1.43613</td>\n",
       "      <td>...</td>\n",
       "      <td>13.35552</td>\n",
       "      <td>2.07374</td>\n",
       "      <td>19499.73901</td>\n",
       "      <td>276.97406</td>\n",
       "      <td>35.66470</td>\n",
       "      <td>23.98322</td>\n",
       "      <td>11.68148</td>\n",
       "      <td>1.65176</td>\n",
       "      <td>19327.69432</td>\n",
       "      <td>364.89235</td>\n",
       "    </tr>\n",
       "  </tbody>\n",
       "</table>\n",
       "<p>5 rows × 185 columns</p>\n",
       "</div>"
      ],
      "text/plain": [
       "           tract  hh_type1_income_min  hh_type1_income_max  hh_type1_income  \\\n",
       "0  '06001400100'              77183.0              77183.0          77183.0   \n",
       "1  '06001400200'              77183.0              77183.0          77183.0   \n",
       "2  '06001400300'              77183.0              77183.0          77183.0   \n",
       "3  '06001400400'              77183.0              77183.0          77183.0   \n",
       "4  '06001400500'              77183.0              77183.0          77183.0   \n",
       "\n",
       "   hh_type1_size  hh_type1_workers  hh_type1_ht  hh_type1_h  hh_type1_t  \\\n",
       "0           2.65              1.19     47.28747    31.95903    15.32843   \n",
       "1           2.65              1.19     43.23431    30.10330    13.13101   \n",
       "2           2.65              1.19     40.66207    28.91199    11.75008   \n",
       "3           2.65              1.19     39.16281    27.41638    11.74643   \n",
       "4           2.65              1.19     41.00672    29.56183    11.44490   \n",
       "\n",
       "   hh_type1_autos             ...               hh_type8_t_own  \\\n",
       "0         1.94773             ...                     16.13171   \n",
       "1         1.69130             ...                     14.36691   \n",
       "2         1.48722             ...                     13.67481   \n",
       "3         1.49303             ...                     13.57546   \n",
       "4         1.43613             ...                     13.35552   \n",
       "\n",
       "   hh_type8_autos_own  hh_type8_vmt_own  hh_type8_transit_trips_own  \\\n",
       "0             2.41000       27157.68000                    89.60589   \n",
       "1             2.20462       22190.76540                   199.78691   \n",
       "2             2.12180       20169.85726                   259.30578   \n",
       "3             2.11423       19816.89993                   264.92679   \n",
       "4             2.07374       19499.73901                   276.97406   \n",
       "\n",
       "   hh_type8_ht_rent  hh_type8_h_rent  hh_type8_t_rent  hh_type8_autos_rent  \\\n",
       "0          43.90211         29.15137         14.75074              2.08000   \n",
       "1          39.41608         26.68970         12.72638              1.81667   \n",
       "2          36.20240         24.44092         11.76148              1.66884   \n",
       "3          38.84974         26.93194         11.91780              1.70589   \n",
       "4          35.66470         23.98322         11.68148              1.65176   \n",
       "\n",
       "   hh_type8_vmt_rent  hh_type8_transit_trips_rent  \n",
       "0        27157.68000                     93.33947  \n",
       "1        21875.40000                    237.08225  \n",
       "2        19600.63630                    332.20771  \n",
       "3        19597.30281                    333.06634  \n",
       "4        19327.69432                    364.89235  \n",
       "\n",
       "[5 rows x 185 columns]"
      ]
     },
     "execution_count": 4,
     "metadata": {},
     "output_type": "execute_result"
    }
   ],
   "source": [
    "data.head()"
   ]
  },
  {
   "cell_type": "code",
   "execution_count": 5,
   "metadata": {
    "collapsed": true
   },
   "outputs": [],
   "source": [
    "aff_data = data.iloc[:, [0, 7, 8]]"
   ]
  },
  {
   "cell_type": "code",
   "execution_count": 10,
   "metadata": {
    "collapsed": false
   },
   "outputs": [],
   "source": [
    "aff_data.loc[:, 'tract'] = aff_data.loc[:, 'tract'].str[1:-1]"
   ]
  },
  {
   "cell_type": "code",
   "execution_count": 12,
   "metadata": {
    "collapsed": false
   },
   "outputs": [],
   "source": [
    "aff_data = aff_data.set_index('tract')"
   ]
  },
  {
   "cell_type": "code",
   "execution_count": 14,
   "metadata": {
    "collapsed": false
   },
   "outputs": [],
   "source": [
    "aff_data.to_csv('./CensusData/sfo data/aff_index.csv')"
   ]
  },
  {
   "cell_type": "code",
   "execution_count": null,
   "metadata": {
    "collapsed": true
   },
   "outputs": [],
   "source": []
  }
 ],
 "metadata": {
  "kernelspec": {
   "display_name": "Python 2",
   "language": "python",
   "name": "python2"
  },
  "language_info": {
   "codemirror_mode": {
    "name": "ipython",
    "version": 2
   },
   "file_extension": ".py",
   "mimetype": "text/x-python",
   "name": "python",
   "nbconvert_exporter": "python",
   "pygments_lexer": "ipython2",
   "version": "2.7.11"
  },
  "widgets": {
   "state": {},
   "version": "0.3.0"
  }
 },
 "nbformat": 4,
 "nbformat_minor": 0
}
