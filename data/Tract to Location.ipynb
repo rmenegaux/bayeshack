{
 "cells": [
  {
   "cell_type": "code",
   "execution_count": 1,
   "metadata": {
    "collapsed": true
   },
   "outputs": [],
   "source": [
    "import pandas as pd"
   ]
  },
  {
   "cell_type": "code",
   "execution_count": 4,
   "metadata": {
    "collapsed": false
   },
   "outputs": [],
   "source": [
    "ref_data = pd.read_csv('./CensusData/sfo data/census_tracts_to_loc_list.txt', sep='\\t')"
   ]
  },
  {
   "cell_type": "code",
   "execution_count": 5,
   "metadata": {
    "collapsed": true
   },
   "outputs": [],
   "source": [
    "tract_data = pd.read_csv('./CensusData/AFFH-Raw-Data/AFFH_tract_20151109.csv')"
   ]
  },
  {
   "cell_type": "code",
   "execution_count": 11,
   "metadata": {
    "collapsed": false
   },
   "outputs": [],
   "source": [
    "tract_data['tractid'] = tract_data['tractid'].astype('str')"
   ]
  },
  {
   "cell_type": "code",
   "execution_count": 16,
   "metadata": {
    "collapsed": false
   },
   "outputs": [],
   "source": [
    "sf_tract_data = tract_data.loc[tract_data['tractid'].str.startswith('6075'), :]"
   ]
  },
  {
   "cell_type": "code",
   "execution_count": 19,
   "metadata": {
    "collapsed": false
   },
   "outputs": [],
   "source": [
    "ref_data['GEOID'] = ref_data['GEOID'].astype('str')"
   ]
  },
  {
   "cell_type": "code",
   "execution_count": 21,
   "metadata": {
    "collapsed": false
   },
   "outputs": [],
   "source": [
    "ref_data_ind = ref_data.set_index('GEOID')"
   ]
  },
  {
   "cell_type": "code",
   "execution_count": 22,
   "metadata": {
    "collapsed": true
   },
   "outputs": [],
   "source": [
    "sf_data_ind = sf_tract_data.set_index('tractid')"
   ]
  },
  {
   "cell_type": "code",
   "execution_count": 23,
   "metadata": {
    "collapsed": true
   },
   "outputs": [],
   "source": [
    "joined_data = sf_data_ind.join(ref_data_ind)"
   ]
  },
  {
   "cell_type": "code",
   "execution_count": 26,
   "metadata": {
    "collapsed": true
   },
   "outputs": [],
   "source": [
    "joined_data.to_csv('./CensusData/sfo data/tract_census_data.csv')"
   ]
  },
  {
   "cell_type": "markdown",
   "metadata": {},
   "source": [
    "#### 2010 census data"
   ]
  },
  {
   "cell_type": "code",
   "execution_count": 47,
   "metadata": {
    "collapsed": false
   },
   "outputs": [],
   "source": [
    "race_data_10 = pd.read_csv('./CensusData/sfo data/race_data_2010.csv')\n",
    "race_data_10.loc[:, 'tract_id'] = race_data_10.loc[:, 'tract_id'].astype(str)\n",
    "race_data_10 = race_data_10.set_index('tract_id')\n",
    "new_data = joined_data.join(race_data_10)\n",
    "\n",
    "new_data.to_csv('./CensusData/sfo data/tract_census_data_new.csv')"
   ]
  },
  {
   "cell_type": "markdown",
   "metadata": {},
   "source": [
    "#### Affordability Data"
   ]
  },
  {
   "cell_type": "code",
   "execution_count": 55,
   "metadata": {
    "collapsed": true
   },
   "outputs": [],
   "source": [
    "loi_data = pd.read_csv('./CensusData/sfo data/aff_index.csv')\n",
    "loi_data.loc[:, 'tract'] = loi_data.loc[:, 'tract'].astype(str)\n",
    "loi_data = loi_data.set_index('tract')\n",
    "latest_data = new_data.join(loi_data)\n",
    "latest_data.to_csv('./CensusData/sfo data/census_data_plus_affordability.csv')"
   ]
  },
  {
   "cell_type": "code",
   "execution_count": null,
   "metadata": {
    "collapsed": true
   },
   "outputs": [],
   "source": []
  }
 ],
 "metadata": {
  "kernelspec": {
   "display_name": "Python 2",
   "language": "python",
   "name": "python2"
  },
  "language_info": {
   "codemirror_mode": {
    "name": "ipython",
    "version": 2
   },
   "file_extension": ".py",
   "mimetype": "text/x-python",
   "name": "python",
   "nbconvert_exporter": "python",
   "pygments_lexer": "ipython2",
   "version": "2.7.11"
  },
  "widgets": {
   "state": {},
   "version": "0.3.0"
  }
 },
 "nbformat": 4,
 "nbformat_minor": 0
}
