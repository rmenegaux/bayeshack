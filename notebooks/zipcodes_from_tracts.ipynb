{
 "cells": [
  {
   "cell_type": "code",
   "execution_count": null,
   "metadata": {
    "collapsed": true
   },
   "outputs": [],
   "source": [
    "import pandas as pd"
   ]
  },
  {
   "cell_type": "code",
   "execution_count": null,
   "metadata": {
    "collapsed": false
   },
   "outputs": [],
   "source": [
    "tracts_df = pd.read_csv('../data/CensusData/sfo data/tracts_reduced_data.csv')"
   ]
  },
  {
   "cell_type": "code",
   "execution_count": null,
   "metadata": {
    "collapsed": false
   },
   "outputs": [],
   "source": [
    "from geopy.geocoders import Nominatim, GoogleV3\n",
    "def get_zipcode_from_coords(coords):\n",
    "    geolocator = Nominatim()\n",
    "    location = geolocator.reverse(','.join(map(str, coords)))\n",
    "    return location.raw['address']['postcode']"
   ]
  },
  {
   "cell_type": "code",
   "execution_count": null,
   "metadata": {
    "collapsed": false
   },
   "outputs": [],
   "source": [
    "zipcodes = {}\n",
    "\n",
    "for i, coords in enumerate(tracts_df[['latitude', 'longitude']].values):\n",
    "    try:\n",
    "        zipcode = get_zipcode_from_coords(coords)\n",
    "        zipcodes[','.join(map(str, coords))] = zipcode\n",
    "        print zipcode\n",
    "    except Exception as e:\n",
    "        print e\n",
    "        print 'error at index - ', i"
   ]
  }
 ],
 "metadata": {
  "kernelspec": {
   "display_name": "Python 2",
   "language": "python",
   "name": "python2"
  },
  "language_info": {
   "codemirror_mode": {
    "name": "ipython",
    "version": 2
   },
   "file_extension": ".py",
   "mimetype": "text/x-python",
   "name": "python",
   "nbconvert_exporter": "python",
   "pygments_lexer": "ipython2",
   "version": "2.7.11"
  }
 },
 "nbformat": 4,
 "nbformat_minor": 0
}
