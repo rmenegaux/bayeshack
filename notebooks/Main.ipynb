{
 "cells": [
  {
   "cell_type": "markdown",
   "metadata": {},
   "source": [
    "# An interactive analysis of well-being in San Francisco\n",
    "\n",
    "## Goals\n",
    "-----\n",
    "This project aims at characterizing the livability of San Francisco neighborhoods in two ways:\n",
    "* Providing meaningful features for each neighborhood crime, transportation, access to restaurants etc\n",
    "  and tools to visualize them.\n",
    "- Trying to uncover a relationship between those features and the satisfaction of neighborhood inhabitants. \n",
    "\n",
    "## Data and Methodology\n",
    "--------------------\n",
    "### Survey Data\n",
    "\n",
    "We used the survey data set - [San Francisco City Survey Data 1996-2015](https://data.sfgov.org/City-Management-and-Ethics/San-Francisco-City-Survey-Data-1996-2015/89tc-4uwi) for computing the satisfaction index of San Francisco city inhabitants as follows - \n",
    "* Each field in the survey data set represents a numerical categorical response to a survey question (except for a few columns related to survey and demographic information like year, zipcode, district etc)\n",
    "* Only the questions with graded responses (from F-Very Bad to A-Excellent) were considered\n",
    "* Responses that had values of 6 (Have Not Used) and 7 (Don't know) were ignored\n",
    "* All the responses were weighted by the 'finweigh' column as stipulated in the survey data notes\n",
    "* Only data from 2009-2015 was considered\n",
    "* Finally all the responses were aggregated across zipcodes and a final **Satisfaction Score** was computed by taking a weighted average of all the scores across categories\n",
    "\n",
    "### Neighborhood Features\n",
    "\n",
    "The neighborhood features include:\n",
    "- a <b>crime</b> index, calculated from the crime density of the area.\n",
    "- access to <b>schools</b>, both public and private.\n",
    "- access to <b>restauration</b> services, i.e. number of close restaurants and their respective ratings.\n",
    "- <b>transportation costs</b>, <b>affordability</b>, <b>poverty</b>, <b>ethnicity</b> indices taken directly from census data.\n",
    "\n",
    "The crime, schools and restauration indices were created in the following way:\n",
    "* The index for every tract is a weighted average (by distance) of the tract to the individual instances (school, restaurant or crime): $$I(t) \\sim \\sum_i \\varphi(d(t, x_i))$$ where the $x_i$ are the coordinates of the instances, $t$ the coordinates of the tract, $d$ a distance function and $\\varphi$ a smoothing kernel.\n",
    "* The indices are then normalized to be between 0 and 100.\n",
    "\n",
    "### Feature Importances:\n",
    "\n",
    "* We select a list of features like, Job Prospects, Crime Index, Environment Score, Housing and Transportation prices etc., which can be affected by the government. \n",
    "\n",
    "* We aim to find the features which are most important for predicting the satisfaction scores across San Francisco. We do this by using `Random Forests`.\n",
    "\n",
    "* Random Forests fit a bunch of trees to bootstrapped versions of the sample data and a better fit is obtained by making  successive trees independent of each other. This is done by randomly selecting a subset of features at each node of the tree.\n",
    "\n",
    "* To compute the `Feature Importances`, the reduction of the error due to each of the features is calculated and the importance of each feature is inferred.\n",
    "\n",
    "### Conclusions:\n",
    "* We have compiled data from various sources to understand what drives the well-being of residents in San Francisco. We observed that Housing Costs and Job Prospects are the most important predictors of well-being.\n",
    "\n",
    "* We also observed that there are certain neighborhoods which perform badly across various types of amenities. But, we also observe that all kinds of amenities do not have the same impact on the well-being and the government can be intelligent in choosing what facilites to improve.\n",
    "\n",
    "Tools\n",
    "-----\n",
    "Analysis:\n",
    "- pandas, numpy, matplotlib\n",
    "- jupyter\n",
    "- geopy\n",
    "\n",
    "Visualization:\n",
    "- bqplot\n",
    "- ipyleaflet\n",
    "- jupyter widgets\n"
   ]
  },
  {
   "cell_type": "code",
   "execution_count": null,
   "metadata": {},
   "outputs": [],
   "source": [
    "from __future__ import print_function\n",
    "\n",
    "# Jupyter display\n",
    "from IPython.display import display\n",
    "\n",
    "# json\n",
    "import json\n",
    "\n",
    "# widgets\n",
    "import ipywidgets as widgets\n",
    "import bqplot as bq\n",
    "import ipyleaflet as ll\n",
    "\n",
    "# numerics\n",
    "import pandas as pd\n",
    "import numpy as np\n",
    "\n",
    "# colormap\n",
    "import matplotlib as mpl\n",
    "import matplotlib.cm\n",
    "import matplotlib.colors\n",
    "\n",
    "def n_colors(n, colormap=mpl.cm.Blues):\n",
    "    data = np.linspace(0.0,1.0,n)\n",
    "    c = [mpl.colors.rgb2hex(d[0:3]) for d in colormap(data)]\n",
    "    return c\n",
    "\n",
    "def data_to_colors(data, colormap=mpl.cm.plasma):\n",
    "    c = [mpl.colors.rgb2hex(d[0:3]) for d in colormap(mpl.colors.Normalize()(data))]\n",
    "    return c"
   ]
  },
  {
   "cell_type": "markdown",
   "metadata": {},
   "source": [
    "# Correlation Matrix for the Scores"
   ]
  },
  {
   "cell_type": "code",
   "execution_count": null,
   "metadata": {},
   "outputs": [],
   "source": [
    "data = pd.read_csv('./../analysis_data/other_race_corrected_merged_data.csv')\n",
    "data = data.iloc[:, 2:]\n",
    "\n",
    "corr_data = data.corr()"
   ]
  },
  {
   "cell_type": "code",
   "execution_count": null,
   "metadata": {},
   "outputs": [],
   "source": [
    "y_sc, col_sc = bq.OrdinalScale(reverse=True), bq.ColorScale(scheme='Reds')\n",
    "ax_c = bq.ColorAxis(scale=col_sc, label='Correlations')\n",
    "grid_map = bq.GridHeatMap(row=corr_data.columns.tolist(), color=corr_data, scales={'row': y_sc, 'color': col_sc})\n",
    "ax_y = bq.Axis(scale=y_sc, orientation='vertical', side='right')\n",
    "\n",
    "fig = bq.Figure(marks=[grid_map], axes=[ax_y, ax_c], padding_y=0.0, \n",
    "             fig_margin={'bottom': 60, 'left': 5, 'right': 110, 'top': 60})\n",
    "display(fig)"
   ]
  },
  {
   "cell_type": "markdown",
   "metadata": {},
   "source": [
    "# Satisfaction Score by ZIP Code"
   ]
  },
  {
   "cell_type": "code",
   "execution_count": null,
   "metadata": {},
   "outputs": [],
   "source": [
    "survey_map = ll.Map(center=[37.7749, -122.34580993652344], zoom=12, layout=widgets.Layout(height='450px'))\n",
    "\n",
    "survey_data = pd.read_csv('./../analysis_data/scores_by_zipcodes.csv', header=None)\n",
    "survey_colors = data_to_colors(np.log(np.log(survey_data.iloc[:, 1])).values, colormap=mpl.cm.Greens)\n",
    "zips = [str(int(i)) for i in survey_data.iloc[:, 0]]\n",
    "cols = {}\n",
    "\n",
    "for i in range(len(zips)):\n",
    "    cols[zips[i]] = survey_colors[i]\n",
    "\n",
    "# Survey layer\n",
    "with open('./../mapdata/sf_zipcodes.geojson') as f:\n",
    "    data = json.load(f)\n",
    "\n",
    "for feature in data['features']:\n",
    "    feature['properties']['style'] = {\n",
    "        'color': cols[feature['id']],\n",
    "        'weight': 1,\n",
    "        'fillColor': cols[feature['id']],\n",
    "        'fillOpacity': 0.65,\n",
    "    }\n",
    "\n",
    "survey_layer = ll.GeoJSON(data=data, hover_style={'fillColor': 'red'})\n",
    "survey_map += survey_layer\n",
    "\n",
    "with open('./../mapdata/bayarea_nosf_zipcodes.geojson') as f:\n",
    "    bay_data = json.load(f)\n",
    "    \n",
    "# Grey layer\n",
    "grey_colors = n_colors(len(bay_data['features']), colormap=mpl.cm.Greys)\n",
    "\n",
    "for feature, color in zip(bay_data['features'], grey_colors):\n",
    "    feature['properties']['style'] = {\n",
    "        'color': 'grey',\n",
    "        'weight': 1,\n",
    "        'fillColor': 'grey',\n",
    "        'fillOpacity': 0.2\n",
    "    }\n",
    "\n",
    "grey_layer = ll.GeoJSON(data=bay_data, hover_style={'fillColor': 'red'})\n",
    "\n",
    "survey_map.add_layer(grey_layer)\n",
    "\n",
    "survey_map"
   ]
  },
  {
   "cell_type": "markdown",
   "metadata": {
    "input_collapsed": true
   },
   "source": [
    "# Neighborhood features"
   ]
  },
  {
   "cell_type": "code",
   "execution_count": null,
   "metadata": {},
   "outputs": [],
   "source": [
    "feature_map = ll.Map(center=[37.7749, -122.34580993652344], zoom=12, layout=widgets.Layout(height='450px'))\n",
    "tract_data = pd.read_csv('./../data/CensusData/sfo data/tract_data_normalized.csv')\n",
    "colors = data_to_colors(tract_data['pct_bachelors'].values, colormap=mpl.cm.Reds)\n",
    "tracts = [str(int(i)) for i in tract_data.iloc[:, 0].values]\n",
    "\n",
    "cols = {}\n",
    "for i in range(len(tracts)):\n",
    "    cols[tracts[i][4:]] = colors[i]\n",
    "\n",
    "with open('./../mapdata/sf_tracts.geojson') as f:\n",
    "    data = json.load(f)\n",
    "for feature in data['features']:\n",
    "    try:\n",
    "        style_col = cols[feature['properties']['tractce10']]\n",
    "    except KeyError:\n",
    "        style_col = 'Grey'\n",
    "    feature['properties']['style'] = {\n",
    "        'color': style_col,\n",
    "        'weight': 1,\n",
    "        'fillColor': style_col,\n",
    "        'fillOpacity': 0.75,\n",
    "    }\n",
    "\n",
    "feature_layer = ll.GeoJSON(data=data)\n",
    "feature_map += feature_layer\n",
    "\n",
    "data_columns = [\n",
    "      'pct_bachelors',\n",
    "      'labor_part_rate',\n",
    "      'pct_welfare',\n",
    "      'low_pov_idx',\n",
    "      'labor_idx',\n",
    "      'env_health_idx',\n",
    "      'hispanic',\n",
    "      'white',\n",
    "      'black',\n",
    "      'american_indian',\n",
    "      'asian',\n",
    "      'pac_islander',\n",
    "      'other_races',\n",
    "      'two_races',\n",
    "      'housing_cost',\n",
    "      'transportation_cost',\n",
    "      'pub_school_score',\n",
    "      'pr_school_score',\n",
    "      'rest_score',\n",
    "      'rest_proximity']\n",
    "\n",
    "dpdown = widgets.Dropdown(options=data_columns, value='pct_bachelors')\n",
    "\n",
    "def update_dpdown(change):\n",
    "    value = change['new']\n",
    "    colors = data_to_colors(tract_data[value].values, colormap=mpl.cm.Reds)\n",
    "    cols = {}\n",
    "    for i in range(len(tracts)):\n",
    "        cols[tracts[i][4:]] = colors[i]\n",
    "    for feature in data['features']:\n",
    "        try:\n",
    "            style_col = cols[feature['properties']['tractce10']]\n",
    "        except KeyError:\n",
    "            style_col = 'grey'\n",
    "        feature['properties']['style'] = {\n",
    "            'color': style_col,\n",
    "            'weight': 1,\n",
    "            'fillColor': style_col,\n",
    "            'fillOpacity': 0.75,\n",
    "        }\n",
    "        \n",
    "    feature_layer = ll.GeoJSON(data=data)\n",
    "    \n",
    "    feature_map.layers = [feature_map.layers[0], feature_layer]\n",
    "    \n",
    "dpdown.observe(update_dpdown, names=['value'])\n",
    "\n",
    "feature_map.layout.align_self = 'stretch'\n",
    "display(widgets.VBox([feature_map, dpdown]))"
   ]
  },
  {
   "cell_type": "markdown",
   "metadata": {},
   "source": [
    "# From the Features to the Satisfaction Index"
   ]
  },
  {
   "cell_type": "code",
   "execution_count": null,
   "metadata": {},
   "outputs": [],
   "source": [
    "ordinal_features_scale = bq.OrdinalScale()\n",
    "values_features_scale = bq.LinearScale()\n",
    "ord_axis = bq.Axis(scale=ordinal_features_scale)\n",
    "value_axis = bq.Axis(scale=values_features_scale, orientation='vertical')\n",
    "\n",
    "predictors = pd.read_csv('./../analysis_data/predictors.csv').set_index('zip code')\n",
    "imp_predictors = predictors.loc[:, ('env_health_idx', 'labor_idx', 'housing_cost', 'transportation_cost', 'crime_index',\n",
    "                                       'pub_school_score', 'rest_proximity')]\n",
    "imp_predictors.columns=['Environment', 'Labor', 'Housing', 'Transport', 'Crime', 'Schools', 'Resta']\n",
    "columns_reduced = imp_predictors.columns.values\n",
    "mean_scores = imp_predictors.mean().values\n",
    "\n",
    "bars = bq.Bars(x=columns_reduced, y=np.ones(len(columns_reduced)), \n",
    "               scales={\n",
    "        'x': ordinal_features_scale,\n",
    "        'y': values_features_scale\n",
    "    }, base=1.0)\n",
    "\n",
    "indication = bq.Label(x=[0.9], y=[0.5], text=['Hover On Map'], font_size='50px', colors=['gray'])\n",
    "\n",
    "ui_map = ll.Map(center=[37.7449, -122.42580993652344], zoom=11, layout=widgets.Layout(width='450px', height='450px'))\n",
    "ui_map.add_layer(survey_layer)\n",
    "ui_map.add_layer(grey_layer)\n",
    "\n",
    "\n",
    "def scores(zip_code):\n",
    "    if zip_code in imp_predictors.index:\n",
    "        dic = imp_predictors.loc[zip_code].to_dict()\n",
    "        return [dic[v] for v in columns_reduced]\n",
    "    else:\n",
    "        return np.ones(len(columns_reduced))\n",
    "\n",
    "def hover_handler(event=None, id=None, properties=None):\n",
    "    figure.marks = [bars]\n",
    "    bars.y = scores(int(id)) / mean_scores\n",
    "\n",
    "survey_layer.on_hover(hover_handler)\n",
    "\n",
    "figure = bq.Figure(axes=[value_axis, ord_axis], marks=[bars, indication],\n",
    "                   title='Predictors',\n",
    "                   animation_duration=500, min_width=300, min_height=500)\n",
    "\n",
    "widgets.HBox([ui_map, figure])"
   ]
  },
  {
   "cell_type": "markdown",
   "metadata": {
    "collapsed": true
   },
   "source": [
    "#### Importances"
   ]
  },
  {
   "cell_type": "code",
   "execution_count": null,
   "metadata": {},
   "outputs": [],
   "source": [
    "scores_data = survey_data.set_index(0)\n",
    "joint_df = pd.concat([imp_predictors, scores_data], axis=1).dropna()\n",
    "preds = joint_df.iloc[:, :-1].values\n",
    "response = joint_df.iloc[:, -1].values"
   ]
  },
  {
   "cell_type": "code",
   "execution_count": null,
   "metadata": {},
   "outputs": [],
   "source": [
    "from sklearn.ensemble import RandomForestRegressor, GradientBoostingRegressor"
   ]
  },
  {
   "cell_type": "code",
   "execution_count": null,
   "metadata": {},
   "outputs": [],
   "source": [
    "rf = RandomForestRegressor(max_features=1, min_samples_leaf=3, n_estimators=100, oob_score=True,\n",
    "                           n_jobs=-1)"
   ]
  },
  {
   "cell_type": "code",
   "execution_count": null,
   "metadata": {},
   "outputs": [],
   "source": [
    "num_iter = 10\n",
    "imps = np.zeros(preds.shape[1])\n",
    "in_sample_scores = 0.\n",
    "out_sample_scores = 0.\n",
    "\n",
    "for it in range(num_iter):\n",
    "    rf.fit(preds, response)\n",
    "    imps += rf.feature_importances_\n",
    "    in_sample_scores += rf.score(preds, response)\n",
    "    out_sample_scores += rf.oob_score_\n",
    "\n",
    "# sort imps desc\n",
    "sort_idx = np.argsort(imps)[::-1]"
   ]
  },
  {
   "cell_type": "code",
   "execution_count": null,
   "metadata": {},
   "outputs": [],
   "source": [
    "from bqplot import pyplot as pl"
   ]
  },
  {
   "cell_type": "code",
   "execution_count": null,
   "metadata": {},
   "outputs": [],
   "source": [
    "pl.figure(title='Importances of various factors for predicting the Satisfaction of a Neighborhood')\n",
    "pl.bar(imp_predictors.columns.values.astype(str)[sort_idx], imps[sort_idx], padding=.2,\n",
    "      colors=n_colors(7, colormap=mpl.cm.winter))\n",
    "pl.show()"
   ]
  }
 ],
 "metadata": {
  "input_collapsed": true,
  "kernelspec": {
   "display_name": "Python 3",
   "language": "python",
   "name": "python3"
  },
  "language_info": {
   "codemirror_mode": {
    "name": "ipython",
    "version": 3
   },
   "file_extension": ".py",
   "mimetype": "text/x-python",
   "name": "python",
   "nbconvert_exporter": "python",
   "pygments_lexer": "ipython3",
   "version": "3.6.3"
  },
  "widgets": {
   "state": {
    "01c81075247b454b942d6056642ce9a6": {
     "views": []
    },
    "01df20f882324e2abae18cd5fdd03794": {
     "views": []
    },
    "020cefe5266b416ca88004c0af737255": {
     "views": []
    },
    "032f5dfccf9c4456a44e30c97c758794": {
     "views": []
    },
    "03d0873e7bd84ce6b12f9e7afaeb5653": {
     "views": []
    },
    "0425235a27124144a97ae40fb26c34ab": {
     "views": []
    },
    "048ab0c93f314f268fb4e38363f983b6": {
     "views": []
    },
    "0561f61912d940649db5a604d806aa42": {
     "views": []
    },
    "05b746a4622a4b61b394738529d246e8": {
     "views": []
    },
    "067c86607afb445b8e3ee06228be478f": {
     "views": []
    },
    "072ffe8ff5fc4a15afcb2233819056cf": {
     "views": []
    },
    "0968325f6df94f379472750b67c20805": {
     "views": []
    },
    "09dd97b119004860b9a447ff6231b621": {
     "views": []
    },
    "0ad2ab3dd2d74b94ae238dff0eaae6ad": {
     "views": []
    },
    "0b12a1c6a0fe464cbeeace53b4a341ae": {
     "views": []
    },
    "0b3e77a46aee41d794670ea4f52f4334": {
     "views": []
    },
    "0b6ab15e6eff4803a66874733bd04c87": {
     "views": []
    },
    "0bf4cba123464ebc94d990e5439c9df1": {
     "views": []
    },
    "0c2aab1d05ed4f5bbfb84868fb5cd0c5": {
     "views": []
    },
    "0c76bf5163cc41f0a5657565e773ea4c": {
     "views": []
    },
    "0d76b0e84e7a47e4811967cddfcf1d89": {
     "views": []
    },
    "0dabdc3bceac4d05908f15c14c3b4b9d": {
     "views": []
    },
    "0e15d2d3756340b6b2527b7b78901ec0": {
     "views": [
      {
       "cell": {
        "cell_type": "code",
        "execution_count": null,
        "metadata": {
         "collapsed": false,
         "trusted": true
        },
        "outputs": [],
        "source": "survey_map = ll.Map(center=[37.7749, -122.34580993652344], zoom=12, layout=widgets.Layout(height='450px'))\n\nsurvey_data = pd.read_csv('./../analysis_data/scores_by_zipcodes.csv', header=None)\nsurvey_colors = data_to_colors(np.log(np.log(survey_data.ix[:, 1])), colormap=mpl.cm.Greens)\nzips = [str(int(i)) for i in survey_data.ix[:, 0]]\ncols = {}\n\nfor i in range(len(zips)):\n    cols[zips[i]] = survey_colors[i]\n\n# Survey layer\nwith open('./../mapdata/sf_zipcodes.geojson') as f:\n    data = json.load(f)\n\nfor feature in data['features']:\n    feature['properties']['style'] = {\n        'color': cols[feature['id']],\n        'weight': 1,\n        'fillColor': cols[feature['id']],\n        'fillOpacity': 0.65,\n    }\n\nsurvey_layer = ll.GeoJSON(data=data, hover_style={'fillColor': 'red'})\nsurvey_map += survey_layer\n\nwith open('./../mapdata/bayarea_nosf_zipcodes.geojson') as f:\n    bay_data = json.load(f)\n    \n# Grey layer\ngrey_colors = n_colors(len(bay_data['features']), colormap=mpl.cm.Greys)\n\nfor feature, color in zip(bay_data['features'], grey_colors):\n    feature['properties']['style'] = {\n        'color': 'grey',\n        'weight': 1,\n        'fillColor': 'grey',\n        'fillOpacity': 0.2\n    }\n\ngrey_layer = ll.GeoJSON(data=bay_data, hover_style={'fillColor': 'red'})\n\nsurvey_map.add_layer(grey_layer)\n\nsurvey_map"
       },
       "cell_index": 7,
       "root": true
      }
     ]
    },
    "0e8d63df2e0542f28534396c30a41b61": {
     "views": []
    },
    "0eaccb7faae04eb7abadd16ef6ad4823": {
     "views": []
    },
    "0f366c6d5c414e5093ab8e57c7ddffc0": {
     "views": []
    },
    "0f6a4c740f9549ad91ae2ed8cc00c084": {
     "views": []
    },
    "100eeb61ee474dfea9cd01e24c5d9ef8": {
     "views": []
    },
    "114b708409b44c27ae885c8c5e9cc7b2": {
     "views": []
    },
    "115ac9f831af4d41800660e7571bcd5c": {
     "views": []
    },
    "11c8102158b44bff84e01bcc1d00c22d": {
     "views": []
    },
    "11d6ed03650f47718cad306321d4b0d7": {
     "views": []
    },
    "121403c4b44a4c96a1844d70e4058caa": {
     "views": []
    },
    "122d16c901b54bb9bd7186180461489e": {
     "views": []
    },
    "140300f5282c4532813475d1f9c6186b": {
     "views": []
    },
    "147dfdb286774a0c9751ee702d29f170": {
     "views": []
    },
    "14ff9cba653744d5bbc5f4b4a57b4873": {
     "views": []
    },
    "16555874cac343d98de253743cfe9a45": {
     "views": []
    },
    "1661652cafe24010841b82424beece66": {
     "views": []
    },
    "168e6e64ba8b4dda9d13f2501e499c15": {
     "views": []
    },
    "168ff81ae0ee48c2abf39272972b0e36": {
     "views": []
    },
    "169ca87efbb64864abff5f29d45c79d5": {
     "views": []
    },
    "16e0f77a0e324eb1bd94be31b60559de": {
     "views": []
    },
    "1824d39260c949e490c8935539f42e51": {
     "views": []
    },
    "1975621c55994da4972d4fcbd8584ce3": {
     "views": []
    },
    "19cef98588974c4e99434fbb50ff6e82": {
     "views": []
    },
    "1ae6f61a74db4f83b6f00c7af31be75b": {
     "views": []
    },
    "1c2ea596a80b46fc803465d196c3c046": {
     "views": []
    },
    "1c499c01a9dc469f8515fe28655e1101": {
     "views": []
    },
    "1ed84e19e81b412d9d181608642bda8b": {
     "views": []
    },
    "1ee15e68a73447b9a0bf9b36a1da3ba8": {
     "views": []
    },
    "1f8a2addb43a40a084e0568d8719df16": {
     "views": []
    },
    "1fb37331a992478ab5cdbf89767c8694": {
     "views": []
    },
    "20593b5b1cd54f8f93a928a375ef854f": {
     "views": []
    },
    "206329e7b51f4b729b3b71a8a8b8476f": {
     "views": []
    },
    "21e65581d15a4da1a7d580451e217c16": {
     "views": []
    },
    "225b49fe5b734acaad0c89de73e6b331": {
     "views": []
    },
    "227c27fd45ed4950aba901678eec2187": {
     "views": []
    },
    "22a705a5863147c88465c514b5f79a6b": {
     "views": []
    },
    "2392a5da2ecf4b499255a8475977192f": {
     "views": []
    },
    "2422e6b9a77046d6af5b0e2efbdb034d": {
     "views": []
    },
    "24c2cf1b23da4d578384bdb524c35285": {
     "views": []
    },
    "24e6089b7c9f4d35ba0a5f36014b3229": {
     "views": []
    },
    "2565f21184de45a0a3d14acd5cb2a1d3": {
     "views": []
    },
    "2743d49124224f5c9eb2adf213c64c4c": {
     "views": []
    },
    "27a5e61cb0d0460cb881ad05fdf1c326": {
     "views": []
    },
    "28459bd3cca8410c84673a93d050133f": {
     "views": []
    },
    "288986ab475c401fa032568c10555417": {
     "views": []
    },
    "28caf2318b274de1a4d0e36c690c2c84": {
     "views": []
    },
    "28ef4384b99547eebd368950e6b5dc2c": {
     "views": []
    },
    "2931f416dc104a42a7cc5416b73583f7": {
     "views": []
    },
    "2a8b80d531264efdb99ab74bb2bb5fc6": {
     "views": []
    },
    "2c3ef3f5c10b4b83911ec1cd711bd90c": {
     "views": []
    },
    "2cbe4f2be3734a64a9296b4edefe3305": {
     "views": []
    },
    "2cc00848d71442029548f7596dfd0531": {
     "views": []
    },
    "2dcce036cc134a08931370525d1d2158": {
     "views": []
    },
    "2e43eb822e2a46ff94c149bc1fa950f5": {
     "views": []
    },
    "2efcca69535541338a182bce036829f3": {
     "views": []
    },
    "2fc3dafaeded4d018f73e0b9310d9c7e": {
     "views": []
    },
    "2fd6e0a4a7e644ab9ffce23cd497c55f": {
     "views": []
    },
    "3131b2d9b30d44da9a10eacba7ab5e0a": {
     "views": []
    },
    "317602cbd5b2432aad8455628622eb27": {
     "views": []
    },
    "3176145f77f440c0aa5046eb3f0065d7": {
     "views": [
      {
       "cell": {
        "cell_type": "code",
        "execution_count": null,
        "metadata": {
         "collapsed": true,
         "trusted": true
        },
        "outputs": [],
        "source": "ordinal_features_scale = bq.OrdinalScale()\nvalues_features_scale = bq.LinearScale()\nord_axis = bq.Axis(scale=ordinal_features_scale)\nvalue_axis = bq.Axis(scale=values_features_scale, orientation='vertical')\n\npredictors = pd.read_csv('./../analysis_data/predictors.csv').set_index('zip code')\nimp_predictors = predictors.loc[:, ('env_health_idx', 'labor_idx', 'housing_cost', 'transportation_cost', 'crime_index',\n                                       'pub_school_score', 'rest_proximity')]\nimp_predictors.columns=['Environment', 'Labor', 'Housing', 'Transport', 'Crime', 'Schools', 'Resta']\ncolumns_reduced = imp_predictors.columns.values\nmean_scores = imp_predictors.mean().values\n\nbars = bq.Bars(x=columns_reduced, y=np.ones(len(columns_reduced)), \n               scales={\n        'x': ordinal_features_scale,\n        'y': values_features_scale\n    }, base=1.0)\n\n\nindication = bq.Label(x=0.9, y=0.5, text='Hover On Map', font_size='50px', color='gray')\n\nui_map = ll.Map(center=[37.7449, -122.42580993652344], zoom=11, layout=widgets.Layout(width='450px', height='450px'))\nui_map.add_layer(survey_layer)\nui_map.add_layer(grey_layer)\n\n\ndef scores(zip_code):\n    if zip_code in imp_predictors.index:\n        dic = imp_predictors.ix[zip_code].to_dict()\n        return [dic[v] for v in columns_reduced]\n    else:\n        return np.ones(len(columns_reduced))\n\ndef hover_handler(event=None, id=None, properties=None):\n    figure.marks = [bars]\n    bars.y = scores(int(id)) / mean_scores\n\nsurvey_layer.on_hover(hover_handler)\n\nfigure = bq.Figure(axes=[value_axis, ord_axis], marks=[bars, indication],\n                   title='Predictors',\n                   animation_duration=500, min_width=300, min_height=500)\n\nwidgets.HBox([ui_map, figure])"
       },
       "cell_index": 11,
       "root": true
      }
     ]
    },
    "31ad85d1dbef4d62b9a606b27e6f75d8": {
     "views": []
    },
    "328ddf82501b4695b88541de7a66ffa7": {
     "views": []
    },
    "32d106059fbb42fc9b5e1f89ce469526": {
     "views": []
    },
    "35064801f01b4bc29d66e92bd5ddcda8": {
     "views": [
      {
       "cell": {
        "cell_type": "code",
        "execution_count": null,
        "metadata": {
         "collapsed": false,
         "trusted": true
        },
        "outputs": [],
        "source": "y_sc, col_sc = bq.OrdinalScale(reverse=True), bq.ColorScale(scheme='Reds')\nax_c = bq.ColorAxis(scale=col_sc, label='Correlations')\ngrid_map = bq.GridHeatMap(row=corr_data.columns.tolist(), color=corr_data, scales={'row': y_sc, 'color': col_sc})\nax_y = bq.Axis(scale=y_sc, orientation='vertical', side='right')\n\nfig = bq.Figure(marks=[grid_map], axes=[ax_y, ax_c], padding_y=0.0, \n             fig_margin={'bottom': 60, 'left': 5, 'right': 110, 'top': 60})\ndisplay(fig)"
       },
       "cell_index": 5,
       "root": true
      }
     ]
    },
    "3639d3381f104299988f8c14df262a83": {
     "views": []
    },
    "369cafd042c44614b1fd88d296f2a805": {
     "views": []
    },
    "388a4a48e3a44d828baec3e66d4ba724": {
     "views": []
    },
    "39328e8e5a584f9eb29d2b2e54481d39": {
     "views": []
    },
    "39e50719e1bd4dab9efc9377bd666761": {
     "views": []
    },
    "3a93b4d1bcc04ca2ac73a3bd500adf0b": {
     "views": []
    },
    "3b24e92f065146b2a8de15ca963bf3a3": {
     "views": []
    },
    "3b68c6e35070423ebdea2f2a740701bf": {
     "views": []
    },
    "3cccca892c424483be4753dd47cb5a67": {
     "views": []
    },
    "3e78a27b1c8546bda7989fb26c4e7dc6": {
     "views": []
    },
    "3f60592cc2524d66b8e45b7c9bae088e": {
     "views": []
    },
    "3f877dea339e4e4eb3cb0b8f5773624a": {
     "views": []
    },
    "4026c0f72bb648b6b987b00655b99b65": {
     "views": []
    },
    "4034e1d3391b40d2938a69a6e9e748f6": {
     "views": []
    },
    "404ac5f3f91c4affaa35be25eb382d1d": {
     "views": []
    },
    "410a4b88e87248d48d56a77fa4f7f110": {
     "views": []
    },
    "4150a7a1668449b9bc6d0c8f9b30340e": {
     "views": []
    },
    "41ad39e2f53c4c43ba367971bcadb34d": {
     "views": []
    },
    "41bfe949879f49a4acd0f4a461d7e550": {
     "views": []
    },
    "41d80596c03542a8a422dccf26bf9c78": {
     "views": []
    },
    "41eb4090ba0f4d3f8f2a2bd4d96ba06e": {
     "views": [
      {
       "cell": {
        "cell_type": "code",
        "execution_count": null,
        "metadata": {
         "collapsed": false,
         "trusted": true
        },
        "outputs": [],
        "source": "feature_map = ll.Map(center=[37.7749, -122.34580993652344], zoom=12, layout=widgets.Layout(height='450px'))\ntract_data = pd.read_csv('./../data/CensusData/sfo data/tract_data_normalized.csv')\ncolors = data_to_colors(tract_data['pct_bachelors'], colormap=mpl.cm.Reds)\ntracts = [str(int(i)) for i in tract_data.ix[:, 0].values]\n\ncols = {}\nfor i in range(len(tracts)):\n    cols[tracts[i][4:]] = colors[i]\n\nwith open('./../mapdata/sf_tracts.geojson') as f:\n    data = json.load(f)\nfor feature in data['features']:\n    try:\n        style_col = cols[feature['properties']['tractce10']]\n    except KeyError:\n        style_col = 'Grey'\n    feature['properties']['style'] = {\n        'color': style_col,\n        'weight': 1,\n        'fillColor': style_col,\n        'fillOpacity': 0.75,\n    }\n\nfeature_layer = ll.GeoJSON(data=data)\nfeature_map += feature_layer\n\ndata_columns = [\n      'pct_bachelors',\n      'labor_part_rate',\n      'pct_welfare',\n      'low_pov_idx',\n      'labor_idx',\n      'env_health_idx',\n      'hispanic',\n      'white',\n      'black',\n      'american_indian',\n      'asian',\n      'pac_islander',\n      'other_races',\n      'two_races',\n      'housing_cost',\n      'transportation_cost',\n      'pub_school_score',\n      'pr_school_score',\n      'rest_score',\n      'rest_proximity']\n\ndpdown = widgets.Dropdown(options=data_columns, value='pct_bachelors')\n\ndef update_dpdown(change):\n    value = change['new']\n    colors = data_to_colors(tract_data[value], colormap=mpl.cm.Reds)\n    cols = {}\n    for i in range(len(tracts)):\n        cols[tracts[i][4:]] = colors[i]\n    for feature in data['features']:\n        try:\n            style_col = cols[feature['properties']['tractce10']]\n        except KeyError:\n            style_col = 'grey'\n        feature['properties']['style'] = {\n            'color': style_col,\n            'weight': 1,\n            'fillColor': style_col,\n            'fillOpacity': 0.75,\n        }\n        \n    feature_layer = ll.GeoJSON(data=data)\n    \n    feature_map.layers = [feature_map.layers[0], feature_layer]\n    \ndpdown.observe(update_dpdown, names=['value'])\n\nfeature_map.layout.align_self = 'stretch'\ndisplay(widgets.VBox([feature_map, dpdown]))"
       },
       "cell_index": 9,
       "root": true
      }
     ]
    },
    "435df991e0cc47c7ab7c4de8525b4cda": {
     "views": []
    },
    "446379ed3a0a4d3c9297d6f9e1031957": {
     "views": []
    },
    "44e954e2b5004c538cc75a19d6f390be": {
     "views": []
    },
    "44f1457890be4932a5293469d9731be9": {
     "views": []
    },
    "456a590305a0472787131ea295dd1e5f": {
     "views": []
    },
    "45a46ca07e6843bf916ffbcc1fdf8acd": {
     "views": []
    },
    "45c00630e31e4e52bd97ab4403b16c4d": {
     "views": []
    },
    "462bc3b3fccb40a8b22819dca3c45a78": {
     "views": []
    },
    "46cdb709fc02406e81940fc381cd5436": {
     "views": []
    },
    "47ee4f472e124eae9229925cd5fdc42f": {
     "views": []
    },
    "494e539b43454864ac201a6da2467d7b": {
     "views": []
    },
    "49a1c8e3b1a448158d12490500dc4152": {
     "views": []
    },
    "49ab81a317fd4129901d07c3e877980b": {
     "views": []
    },
    "4a74cb2219f94d1191cc290713282a64": {
     "views": []
    },
    "4adb1384e3794bc3bed9fdd8c9166dc9": {
     "views": []
    },
    "4ca639447b174d91a6d12af51e765493": {
     "views": []
    },
    "4ca8093119284c25a1b0967aab689405": {
     "views": []
    },
    "4cba9f26f25c4f698958ebe6b1610bf6": {
     "views": []
    },
    "4da04579d94f4e61bc20c6113ef82553": {
     "views": []
    },
    "4da38843787b4f6b9bbb0ee748be7d75": {
     "views": []
    },
    "4dbcf2f9bf244bf6aac794d93e1961dd": {
     "views": []
    },
    "4e9a93c50e0a45be90989ac6a20a6721": {
     "views": []
    },
    "4fcf53bbd6dc4ba6afa8b145e5dae8ea": {
     "views": []
    },
    "4fda0033f59c49c1b4c7e33ba7bf4277": {
     "views": []
    },
    "509129946337467b970c8c379405e604": {
     "views": []
    },
    "50a4b4794b9f4d8b99d70f8ad1016a9e": {
     "views": []
    },
    "50e64ce7b2b148bcb2bb34a7a7229be2": {
     "views": []
    },
    "513b82a7d04d4e639203189fb851160a": {
     "views": []
    },
    "518463192d3546b89474a52131a069b2": {
     "views": []
    },
    "534c123494ad4e39b81aee2497ff5c2e": {
     "views": []
    },
    "53b492d9b89740aa84983c8ab65076f3": {
     "views": []
    },
    "53c7e24571194319bdf870c8277d1bf4": {
     "views": []
    },
    "542c3b8936de4200a6ab1c369564db64": {
     "views": []
    },
    "546ea3de3f6f451faccdfbe6663e3b42": {
     "views": []
    },
    "55b67d3760384e848d1604af4fa8976f": {
     "views": []
    },
    "55df36be569a4de2a59376c7edff909d": {
     "views": []
    },
    "56258c5b60fd4eec95d7ce89bddc25af": {
     "views": []
    },
    "56b3b47f4b404f379667d0c80cd5593f": {
     "views": []
    },
    "56c6de4723bf4f7ebb4107c9ac29a972": {
     "views": []
    },
    "57073ce2b75d40fc8ba82d4f83a93eae": {
     "views": []
    },
    "57a696152c334cd7a72814d3e2ec8700": {
     "views": []
    },
    "58255b19e53b43da8f3d4c561686b78a": {
     "views": []
    },
    "58db7d7ba91a412785d584e479fd7973": {
     "views": []
    },
    "5918969f50e14659a8ff37818ef65e1f": {
     "views": []
    },
    "595d57c89c1641b6857ae582c70dd581": {
     "views": []
    },
    "5a27eace5200488b9a5642209eb770c9": {
     "views": []
    },
    "5a8af64ef36b49458ae4279fd3570351": {
     "views": []
    },
    "5b46a65728d048818bc7e4147d254fff": {
     "views": []
    },
    "5bb1fd2605e442748d1e6b2fc8221e07": {
     "views": []
    },
    "5d3a32efa4bb424e9ca192ecc1ef220e": {
     "views": []
    },
    "5d8582a662824f928666032749f6be06": {
     "views": []
    },
    "5d927bd9afb24cb295dd79c037ba77d7": {
     "views": []
    },
    "5db49f5c0d114c6f8ca40e96e7db5c6a": {
     "views": []
    },
    "5e03a70108d84f80a6ca3b343af8143a": {
     "views": []
    },
    "5e33303c420142e8b9206e1655d7a8f3": {
     "views": []
    },
    "60301ce83ff14fb9bc9b816d935fe919": {
     "views": []
    },
    "60a6407ce23e4812962fb63f36334961": {
     "views": []
    },
    "60b1d573638d4fe894d25022c6f15104": {
     "views": [
      {
       "cell": {
        "cell_type": "code",
        "execution_count": null,
        "metadata": {
         "collapsed": false,
         "trusted": true
        },
        "outputs": [],
        "source": "pl.figure(title='Importances of various factors for predicting the Satisfaction of a Neighborhood')\npl.bar(imp_predictors.columns.values.astype(str)[sort_idx], imps[sort_idx], padding=.2,\n      colors=n_colors(7, colormap=mpl.cm.winter))\npl.show()"
       },
       "cell_index": 18,
       "root": true
      }
     ]
    },
    "6173ef9bcbf249d88f9338059e586ba0": {
     "views": []
    },
    "623c065dc1b446f3a3c5997cd83c74f5": {
     "views": []
    },
    "634bd9199e02400ca15bceba71ff40e8": {
     "views": []
    },
    "63f108da92bd44069f5cbf1bff6e7ceb": {
     "views": []
    },
    "64fd5671e0cc43599bb4132af0ad5a9f": {
     "views": []
    },
    "6648351efecb4896892987e96a4513d9": {
     "views": []
    },
    "671191f0194f46f083d46de8827b5814": {
     "views": []
    },
    "67b047651a204a37a0a2f127d4a6cbcd": {
     "views": []
    },
    "6836ce814dee4a28b79107e2ffd6d4f1": {
     "views": []
    },
    "6846a84a9462429ca01932784269e203": {
     "views": []
    },
    "6869d2c288d04399a271cac242968158": {
     "views": []
    },
    "68c61efa5c8d4e01bfc6f7d42479bb1a": {
     "views": []
    },
    "69a80b5d0bb5404a82aa36f9b9c48f95": {
     "views": []
    },
    "6a3d99b6081e4aa1b0f1377296927ada": {
     "views": []
    },
    "6b399fdefbf54144ae493c5947fef979": {
     "views": []
    },
    "6c6225e275764e24932f20c0f535e68b": {
     "views": []
    },
    "6d15a7a6fa1f4b96938bdf15504b49cc": {
     "views": []
    },
    "6d2214e267f64c13a0b7fce32d2420be": {
     "views": []
    },
    "6e85e47c686d44c9a6eaac8d264beef7": {
     "views": []
    },
    "6f421871457b41e986b37508d520217c": {
     "views": []
    },
    "7029fa5a339848928b9b637b07186dc5": {
     "views": []
    },
    "712b9121acf84c5e8202e6814f522d98": {
     "views": []
    },
    "72a8ba1fbf374d849c6b7a2c0631d365": {
     "views": []
    },
    "72d39c15997b4d479c09fc4ca658e3ce": {
     "views": []
    },
    "73c613049e184ab999bdb66157e988c7": {
     "views": []
    },
    "742427f9a3c34cf997f32b04b4cc5794": {
     "views": []
    },
    "7451e049c61c47f5bfbdb81fc7dda2b0": {
     "views": []
    },
    "763d82e3ab2b4d01a9d4e31d15e830bc": {
     "views": []
    },
    "7682373a060049429f7fe13ccc2e25fb": {
     "views": []
    },
    "76ab9bf94e5d4878a155ea12e74fb6aa": {
     "views": []
    },
    "776adfa75063456697a223144f946b41": {
     "views": []
    },
    "78314990f2aa40e1b1bd68fd69ab24f3": {
     "views": []
    },
    "78ca6f6c13ca45aa9785faac68dedde2": {
     "views": []
    },
    "790fbc0ca6b546acbc4c50d9459d6472": {
     "views": []
    },
    "79718c1893be408cbad5a19c680b29a8": {
     "views": []
    },
    "7974d8a885fa48c3befc384a496ce347": {
     "views": []
    },
    "79a14e612c8842ccbbd10436f803b3d9": {
     "views": []
    },
    "79d14037c48849999e618b773eede08f": {
     "views": []
    },
    "7a0471d41d70466b9ffc85579fe19428": {
     "views": []
    },
    "7ae1518a7c7c4ba7a7f244fe628fc261": {
     "views": []
    },
    "7ae5fa3165ca4f6296750c85e50ca6c2": {
     "views": []
    },
    "7bcfcc6d73fd4aa2b3622d0b6cdeb997": {
     "views": []
    },
    "7c486757de184a22ac48c9e82c0c9ca2": {
     "views": []
    },
    "7c9e3bcaa9894534b1b20239488e6f64": {
     "views": []
    },
    "7ca514a3417c4f23b4ecd216b57e582d": {
     "views": []
    },
    "7ce8738e5386481eaa8282140afa4c31": {
     "views": []
    },
    "7d8845b1cd064be4b8bab347acab9e82": {
     "views": []
    },
    "7de28604e8e1405391d9abbb3de540e5": {
     "views": []
    },
    "7e1ff1452e5b4a069093a8dfaecf381a": {
     "views": []
    },
    "7ee074d456184f1a9a261745a526c87e": {
     "views": []
    },
    "7fa24402ceab407ab38d8e9e9f80d7dc": {
     "views": []
    },
    "801179162cfe4e7aad7367990b633d14": {
     "views": []
    },
    "8340782896d54889b6def4a534ba2e21": {
     "views": []
    },
    "851d3cc5c2fa4c6f9aa8b87df70b3f42": {
     "views": []
    },
    "857efebcd45943ffb06264266b63c838": {
     "views": []
    },
    "85ca80ca398a4e24a6e4b98724b9ef4e": {
     "views": []
    },
    "868a00d070c244d29a98d427873adbbe": {
     "views": []
    },
    "868da87cf82041a29833a123d8436efd": {
     "views": []
    },
    "894ddd4fe0874114be3858c25ab6da83": {
     "views": []
    },
    "89944f1e13e341ee8b0b7df33a66aaa7": {
     "views": []
    },
    "8a1ff2034f2b4fc39a9855242f65e0e1": {
     "views": []
    },
    "8a243d28c1b348b2b4ce862aa927da25": {
     "views": []
    },
    "8aebfd13a0954cbc96bf17a1f429be73": {
     "views": []
    },
    "8b73d36107fb45ed8d798dc07bf407c1": {
     "views": []
    },
    "8c4ae48341304d9787d3508a3ca2ce00": {
     "views": []
    },
    "8c7644d0e9eb40b9be5e521817d93564": {
     "views": []
    },
    "8d8b3a0dfab94abc98c697725c6b8f36": {
     "views": []
    },
    "8dfa6a274d554fb0a194debe8326e81c": {
     "views": []
    },
    "8ed0d56d0df44e18a14883fb8c44a192": {
     "views": []
    },
    "902d8d06757d47dc82d60d3e75f35ef9": {
     "views": []
    },
    "90ec7a1b5baf4f50869d725705d7d0d6": {
     "views": []
    },
    "916afd17e52848f993a93e3cf3e473d6": {
     "views": []
    },
    "91ef8296d6004a43a0bc292079536c0d": {
     "views": []
    },
    "93c2e6c2db1941659e3ae3679ede56fd": {
     "views": []
    },
    "93cc4780a95140bd9d0aaa736c9335e5": {
     "views": []
    },
    "9560b17769a3476b8ae89bd9a0fb029c": {
     "views": []
    },
    "96422088d0de4676896879d311a93212": {
     "views": []
    },
    "96ec755244184a52b580a685feecb771": {
     "views": []
    },
    "98a399ff77aa42718a4ed5d3ae8315e3": {
     "views": []
    },
    "9aa5c811e7e14535b41ff690a056df05": {
     "views": []
    },
    "9b680591b93c4ed2b4a17b67caf1c4e3": {
     "views": []
    },
    "9b79387477de42b181b33bfa4ab28779": {
     "views": []
    },
    "9e79a949838b48c69f66ca4083c06c30": {
     "views": []
    },
    "9e937beff47c48289fa0a074e81774f2": {
     "views": []
    },
    "9ef19e637e8a44349bdbe91d77f51f5e": {
     "views": []
    },
    "a05e76f952514f48a9381b7abf7d0304": {
     "views": []
    },
    "a1d53d592ff04c058ad7f1177e63595f": {
     "views": []
    },
    "a1d7c457dfea4974a5bb628c856ef967": {
     "views": []
    },
    "a218d866ae584e2d8ba6174e91e61376": {
     "views": []
    },
    "a27ece0301cc4b62941958172e94bb24": {
     "views": []
    },
    "a32802c7e1fb419182f206293a715681": {
     "views": []
    },
    "a4d544cb622c4f2e812a4368e1165a7c": {
     "views": []
    },
    "a5297eaa6c5a45feb042329ad4c960d2": {
     "views": []
    },
    "a52a7ecae6cc4b0eb6de73aeccc8b7b7": {
     "views": []
    },
    "a6a2c4ee58e24b2ca558205b2e30b53a": {
     "views": []
    },
    "a89578681d244f79a5f61ddf4839d7f5": {
     "views": []
    },
    "a8a13598db2f41a497889951c51a0712": {
     "views": []
    },
    "a91f68920c3b487f9d65f7806ab11055": {
     "views": []
    },
    "a9dc889af8754310a6432696c1c25ac4": {
     "views": []
    },
    "aabd03753ffe40eda42c8ae443d58f62": {
     "views": []
    },
    "aad2950b20ec40f6909665091bdecec5": {
     "views": []
    },
    "ab1a31901d5a453ab5a948e30b2a4cae": {
     "views": []
    },
    "ac3807889ff041a1bab37cb2f56e031f": {
     "views": []
    },
    "acd45c51e888424695e29f480ddc8630": {
     "views": []
    },
    "ad713bbc079e4cd39f35ac34fe721d5e": {
     "views": []
    },
    "aef98979035c4daeb5ca3cc29fcf053d": {
     "views": []
    },
    "af88ead5fccb4954a3f1ac2f8c817868": {
     "views": []
    },
    "afc52c9950094c2d97a16119b975f34e": {
     "views": []
    },
    "b016cea314b7455d85b46d4a224ffb4c": {
     "views": []
    },
    "b02aebdc685e4047a798435ddbd2d6de": {
     "views": []
    },
    "b07263da2f0d44cc9e66e70e23ab2402": {
     "views": []
    },
    "b1dfba4be24e48afacc737f28c988a10": {
     "views": []
    },
    "b223ebd5752a40d5b5862a1ac7963157": {
     "views": []
    },
    "b424d55c816842a7af9fc2add088e643": {
     "views": []
    },
    "b4cf23af7eb64037ac8268e925e72fed": {
     "views": []
    },
    "b53ea2afb30f48af92da4baab734b8fe": {
     "views": []
    },
    "b56d58d82a834e13bc0cddd15a232c8c": {
     "views": []
    },
    "b5772112f5a0472eae3a1b75521ea4a2": {
     "views": []
    },
    "b5f03c8567a146d8b263c28a6e0084a7": {
     "views": []
    },
    "b7e0b5d8db8e4b80aeaa5fb82e198c68": {
     "views": []
    },
    "b80e4f51e8bc4053b5aab2e1a970c3eb": {
     "views": []
    },
    "b91118b6127e4863833f587a9cd27133": {
     "views": []
    },
    "badea4aa9fa348c480c433c4aacb8f00": {
     "views": []
    },
    "bb7ef10681fc483aad035a1d13801b00": {
     "views": []
    },
    "bd0e6b7a235b4eb7ada3adc98b5e3dff": {
     "views": []
    },
    "bda88ac8f4bb4f8e9ec17927479b68f8": {
     "views": []
    },
    "bdb64a1d5b9b4615b194319f94fa7dd7": {
     "views": []
    },
    "bde0fb8242c84d31b7a28b64d32a62af": {
     "views": []
    },
    "bdf199e148f244288bdee2b2b9b381f8": {
     "views": []
    },
    "bdf6276f754b4740af1058da5f916107": {
     "views": []
    },
    "be21a53964ef4333abbeee6bf2640414": {
     "views": []
    },
    "be6767065fe44891a0dcfa89d63af9a4": {
     "views": []
    },
    "bf4aa689e7a64bb7926adc77912bc355": {
     "views": []
    },
    "bf5a3cf1cd53463b95862b84bb426973": {
     "views": []
    },
    "c01165e3c26848629ff88821235af6d9": {
     "views": []
    },
    "c0be7adc37c84ff9ab853e464e9007eb": {
     "views": []
    },
    "c0fbdb0dad7b4add8ceb39a19c3b4a6b": {
     "views": []
    },
    "c1da07266687457f80f4753921651ba1": {
     "views": []
    },
    "c24887716c2c444a807083948534ec31": {
     "views": []
    },
    "c2a3e49fa1484adfa2615c91b10b6b69": {
     "views": []
    },
    "c3074250527643ccabaef4b95903f6b6": {
     "views": []
    },
    "c3fc1ff331ae4072ba20f813a292e749": {
     "views": []
    },
    "c4413d9658084cda95b46f5cc8f9692a": {
     "views": []
    },
    "c47dcda0b048477d96b8f8bebde0b247": {
     "views": []
    },
    "c49f7e2f12c147a49a4c7550b3c8c46a": {
     "views": []
    },
    "c513bb6650c44fc9ade543425c87706c": {
     "views": []
    },
    "c565c35932b142f3ab1ffd27fd7d0fb8": {
     "views": []
    },
    "c641369b381242e29226f60fcfb9b88d": {
     "views": []
    },
    "c6a1be63b6a04a8299f6e6259127e880": {
     "views": []
    },
    "c6e457479f02473d9745b5e9ad10cf8e": {
     "views": []
    },
    "c88079a49a7d47b2a1637de15d01ab2f": {
     "views": []
    },
    "ca74bb7fbeb941d5afd6a951abd4a736": {
     "views": []
    },
    "cb145d94e77541b5a99b3c1482c6992d": {
     "views": []
    },
    "cb1680858e0748c981ae3289701dfe82": {
     "views": []
    },
    "cbe6eb6589594d838635452a4ae76a2f": {
     "views": []
    },
    "cbff66a68d294a689db6534ed0fb93bd": {
     "views": []
    },
    "cc2b793911d64eeea6f4622e05c7f571": {
     "views": []
    },
    "cc830f51b2934a668184b0ed960333fe": {
     "views": []
    },
    "ccb7582cf8674f69ae1e427a0023e61f": {
     "views": []
    },
    "cd1255f56f98435992cbdc2cfae7d822": {
     "views": []
    },
    "cd260ad7122345c7b9986442352d2124": {
     "views": []
    },
    "ce88a5158fcd4bc6b02ba4d2f94eb54d": {
     "views": []
    },
    "cfffcbf0efc8466295cd038f478797c1": {
     "views": []
    },
    "d012a9e91b994a1880feba1baec3a81c": {
     "views": []
    },
    "d1fcd2cc9b9b4bf3a14341c7ececd079": {
     "views": []
    },
    "d3081564a5444d14b763b563e63d2872": {
     "views": []
    },
    "d37b261fc2094f99a2e92c30debc2e23": {
     "views": []
    },
    "d3bbf11c0cd94ed0a53879418c6ad484": {
     "views": []
    },
    "d44221dd6ef841d8a2cad14bf17d5124": {
     "views": []
    },
    "d457235b6f0c4e59aa5bfb958b0b6ab2": {
     "views": []
    },
    "d4ad11430be347ff8d7fb6a66e7f40b1": {
     "views": []
    },
    "d6771254a46e41499dc6bb859c5c8475": {
     "views": []
    },
    "d6a1e4b512de4efdb791fba73609413a": {
     "views": []
    },
    "d926aba76f2f4214a1a1314d44bdd978": {
     "views": []
    },
    "da3d68bc10aa4312a2e4e918482fa187": {
     "views": []
    },
    "dacdcdd378e04cb0aa711e1f665d5721": {
     "views": []
    },
    "dbe0fd7f3b9144cc9aaf91aa6501a585": {
     "views": []
    },
    "ddfb95bc2f2d4e4d8aa157e4f4dca037": {
     "views": []
    },
    "de42aaaabd54493fa2bda0a3e4cb0e80": {
     "views": []
    },
    "de638ab4d2204f17afbc1eceb3df9322": {
     "views": []
    },
    "de758c00675040ee80c31968b8aed122": {
     "views": []
    },
    "deedb651f73547918dd33beded04c30f": {
     "views": []
    },
    "df4aed8baeb0433c938e2ade112620b9": {
     "views": []
    },
    "df618d2df45a4d9bb47678c4a60b09b9": {
     "views": []
    },
    "df72900dcc894e6b854b6d10b004f433": {
     "views": []
    },
    "df9512eb91554511a739f5083ad50636": {
     "views": []
    },
    "e06e4cfe0a46418eb17c89d6ecd411e1": {
     "views": []
    },
    "e22da6d2cf83403daba84bae149d72c9": {
     "views": []
    },
    "e25bae5ea8074f72aef785960dd78ca1": {
     "views": []
    },
    "e28c1bf8448f499bacf844d6d5fa777b": {
     "views": []
    },
    "e3f4d589e69b47f3882a7706280f9415": {
     "views": []
    },
    "e56605952e984895816ffd4636a6fb98": {
     "views": []
    },
    "e5f1ae3e3d9f43529395b233acff6f81": {
     "views": []
    },
    "e6d7c8c54b1842d29f97fccf37c47fc3": {
     "views": []
    },
    "e80f738b27794b3096f7b45c29c98b69": {
     "views": []
    },
    "e820d032836440aea797d0eb2921688f": {
     "views": []
    },
    "e89c79e67b144772af9cedb972a6e4b3": {
     "views": []
    },
    "e97cc3aba17f48d7924a1f04a1178751": {
     "views": []
    },
    "ea5cbc95013c47e29c887cfb706f25a7": {
     "views": []
    },
    "eaa72b67b6124a80af3aee3018efce8a": {
     "views": []
    },
    "ead02b39f465468ab22dfb272f21c3fb": {
     "views": []
    },
    "ebb3293ad5644ce097a84adc073235c3": {
     "views": []
    },
    "eca1079adf6f484992ea454fc01bd7f6": {
     "views": []
    },
    "ecaa9ca22bbf429bac758eaef38b0649": {
     "views": []
    },
    "ecc2a71d179e4cb8b1f25bd0fb755ca0": {
     "views": []
    },
    "ed9a5b234e444e01876e77b4a1908212": {
     "views": []
    },
    "ee27e30714ee4254b510c09cf90e05fc": {
     "views": []
    },
    "f02c6e3c19bf448fbecf9d7735bdf932": {
     "views": []
    },
    "f0d1cf4dd1334c43a665be689ff7ede2": {
     "views": []
    },
    "f1b6fc30f1484995b5f1c257518c95e8": {
     "views": []
    },
    "f2391f15904d4ae39a68e687116200d1": {
     "views": []
    },
    "f3d168899ea74bd893250e8e38c18c45": {
     "views": []
    },
    "f44d2f118b5244d5ab9f837b229578ca": {
     "views": []
    },
    "f450b36288f546cbb6a45cc58ace3aab": {
     "views": []
    },
    "f485d7450d0148fea7847a06e20f9137": {
     "views": []
    },
    "f50f6cb8445b4c4fb02eb8ab9d01f681": {
     "views": []
    },
    "f629e22cb71f4bee9a5f769f8d5c7ff1": {
     "views": []
    },
    "f6a36e1371a24cf584284771296506ac": {
     "views": []
    },
    "f70b79efe88241b2a17e40323fc101d0": {
     "views": []
    },
    "f73932c70a1a4d209b6b8e93e24c367e": {
     "views": []
    },
    "f83ee201ab3c4ad1bd451082b46d4531": {
     "views": []
    },
    "f864ad33caca4d748520955e7f19dbf2": {
     "views": []
    },
    "f88229538326499f8ed4060b410c3e2d": {
     "views": []
    },
    "f88e174af9ef4c8d8d5a0ccfea88ce6c": {
     "views": []
    },
    "fa24679a25504bf6b2df0422e3b8550b": {
     "views": []
    },
    "fade4f82fddb4a5fb38fc9fdad18c7d5": {
     "views": []
    },
    "fbc28f6c04824f2b9861fd060872554e": {
     "views": []
    },
    "fc6a08aed3774fb2b47e0d656e0e9af5": {
     "views": []
    },
    "fcc7f6a3d7fb495b9ba839a0a02439ee": {
     "views": []
    },
    "fd39d953369b4491bb7a6c5e6ebb0b62": {
     "views": []
    },
    "fdc691b4722946c29fd799903e710f34": {
     "views": []
    },
    "fe7439e80d444dd892224debf079a650": {
     "views": []
    },
    "fee020cca5ea41b3b151c948e5eef0c9": {
     "views": []
    }
   },
   "version": "1.0.0"
  }
 },
 "nbformat": 4,
 "nbformat_minor": 1
}
