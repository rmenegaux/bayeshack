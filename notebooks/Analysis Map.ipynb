{
 "cells": [
  {
   "cell_type": "code",
   "execution_count": 41,
   "metadata": {
    "collapsed": true
   },
   "outputs": [],
   "source": [
    "from __future__ import print_function\n",
    "\n",
    "import pandas as pd\n",
    "import numpy as np\n",
    "import ipywidgets\n",
    "\n",
    "from ipyleaflet import *"
   ]
  },
  {
   "cell_type": "code",
   "execution_count": 42,
   "metadata": {
    "collapsed": true
   },
   "outputs": [],
   "source": [
    "import matplotlib as mpl\n",
    "import matplotlib.cm\n",
    "import matplotlib.colors\n",
    "\n",
    "def n_colors(n, colormap=mpl.cm.Blues):\n",
    "    data = np.linspace(0.0,1.0,n)\n",
    "    c = [mpl.colors.rgb2hex(d[0:3]) for d in colormap(data)]\n",
    "    return c\n",
    "\n",
    "def data_to_colors(data, colormap=mpl.cm.plasma):\n",
    "    c = [mpl.colors.rgb2hex(d[0:3]) for d in colormap(mpl.colors.Normalize()(data))]\n",
    "    return c"
   ]
  },
  {
   "cell_type": "code",
   "execution_count": 43,
   "metadata": {
    "collapsed": true
   },
   "outputs": [],
   "source": [
    "m1 = Map(center=[37.7749, -122.34580993652344], zoom=12, layout=Layout(height='600px'))"
   ]
  },
  {
   "cell_type": "code",
   "execution_count": 44,
   "metadata": {
    "collapsed": false
   },
   "outputs": [],
   "source": [
    "survey_data = pd.read_csv('./../analysis_data/scores_by_zipcodes.csv', header=None)"
   ]
  },
  {
   "cell_type": "code",
   "execution_count": 45,
   "metadata": {
    "collapsed": false,
    "scrolled": true
   },
   "outputs": [],
   "source": [
    "colors = data_to_colors(survey_data.ix[:, 1], colormap=mpl.cm.Greens)"
   ]
  },
  {
   "cell_type": "code",
   "execution_count": 46,
   "metadata": {
    "collapsed": false
   },
   "outputs": [],
   "source": [
    "zips = [str(int(i)) for i in survey_data.ix[:, 0]]"
   ]
  },
  {
   "cell_type": "code",
   "execution_count": 47,
   "metadata": {
    "collapsed": true
   },
   "outputs": [],
   "source": [
    "cols = {}\n",
    "for i in range(len(zips)):\n",
    "    cols[zips[i]] = colors[i]"
   ]
  },
  {
   "cell_type": "code",
   "execution_count": 48,
   "metadata": {
    "collapsed": true
   },
   "outputs": [],
   "source": [
    "import json\n",
    "with open('./../mapdata/sf_zipcodes.geojson') as f:\n",
    "    data = json.load(f)"
   ]
  },
  {
   "cell_type": "code",
   "execution_count": 49,
   "metadata": {
    "collapsed": false
   },
   "outputs": [],
   "source": [
    "for feature in data['features']:\n",
    "    feature['properties']['style'] = {\n",
    "        'color': cols[feature['id']],\n",
    "        'weight': 1,\n",
    "        'fillColor': cols[feature['id']],\n",
    "        'fillOpacity': 0.75,\n",
    "    }"
   ]
  },
  {
   "cell_type": "code",
   "execution_count": 50,
   "metadata": {
    "collapsed": true
   },
   "outputs": [],
   "source": [
    "g = GeoJSON(data=data)\n",
    "m1 += g"
   ]
  },
  {
   "cell_type": "code",
   "execution_count": 51,
   "metadata": {
    "collapsed": true
   },
   "outputs": [],
   "source": [
    "m1"
   ]
  },
  {
   "cell_type": "code",
   "execution_count": 52,
   "metadata": {
    "collapsed": true
   },
   "outputs": [],
   "source": [
    "m = Map(center=[37.7749, -122.34580993652344], zoom=12, layout=Layout(height='600px'))"
   ]
  },
  {
   "cell_type": "code",
   "execution_count": 53,
   "metadata": {
    "collapsed": false
   },
   "outputs": [],
   "source": [
    "tract_data = pd.read_csv('./../data/CensusData/sfo data/tract_data_normalized.csv')"
   ]
  },
  {
   "cell_type": "code",
   "execution_count": 54,
   "metadata": {
    "collapsed": false
   },
   "outputs": [],
   "source": [
    "colors = data_to_colors(tract_data['pct_bachelors'], colormap=mpl.cm.Reds)"
   ]
  },
  {
   "cell_type": "code",
   "execution_count": 55,
   "metadata": {
    "collapsed": true
   },
   "outputs": [],
   "source": [
    "tracts = [str(int(i)) for i in tract_data.ix[:, 0].values]"
   ]
  },
  {
   "cell_type": "code",
   "execution_count": 56,
   "metadata": {
    "collapsed": true
   },
   "outputs": [],
   "source": [
    "cols = {}\n",
    "for i in range(len(tracts)):\n",
    "    cols[tracts[i][4:]] = colors[i]"
   ]
  },
  {
   "cell_type": "code",
   "execution_count": 57,
   "metadata": {
    "collapsed": true
   },
   "outputs": [],
   "source": [
    "import json\n",
    "with open('./../mapdata/sf_tracts.geojson') as f:\n",
    "    data = json.load(f)"
   ]
  },
  {
   "cell_type": "code",
   "execution_count": 58,
   "metadata": {
    "collapsed": false
   },
   "outputs": [],
   "source": [
    "for feature in data['features']:\n",
    "    try:\n",
    "        style_col = cols[feature['properties']['tractce10']]\n",
    "    except KeyError:\n",
    "        style_col = 'Grey'\n",
    "    feature['properties']['style'] = {\n",
    "        'color': style_col,\n",
    "        'weight': 1,\n",
    "        'fillColor': style_col,\n",
    "        'fillOpacity':0.75,\n",
    "    }"
   ]
  },
  {
   "cell_type": "code",
   "execution_count": 59,
   "metadata": {
    "collapsed": true
   },
   "outputs": [],
   "source": [
    "g = GeoJSON(data=data)\n",
    "m += g"
   ]
  },
  {
   "cell_type": "code",
   "execution_count": 60,
   "metadata": {
    "collapsed": true
   },
   "outputs": [],
   "source": [
    "from ipywidgets import Dropdown, VBox"
   ]
  },
  {
   "cell_type": "code",
   "execution_count": 61,
   "metadata": {
    "collapsed": true
   },
   "outputs": [],
   "source": [
    "from IPython.display import display"
   ]
  },
  {
   "cell_type": "code",
   "execution_count": 62,
   "metadata": {
    "collapsed": false
   },
   "outputs": [],
   "source": [
    "data_columns = ['pct_bachelors', 'labor_part_rate', 'pct_welfare', 'low_pov_idx',\n",
    "      'labor_idx', 'env_health_idx', 'hispanic', 'white', 'black',\n",
    "      'american_indian', 'asian', 'pac_islander', 'other_races',\n",
    "      'two_races', 'housing_cost', 'transportation_cost',\n",
    "      'pub_school_score', 'pr_school_score', 'rest_score',\n",
    "      'rest_proximity']\n",
    "\n",
    "x = Dropdown(options=data_columns, value='pct_bachelors')"
   ]
  },
  {
   "cell_type": "code",
   "execution_count": 63,
   "metadata": {
    "collapsed": false
   },
   "outputs": [
    {
     "name": "stderr",
     "output_type": "stream",
     "text": [
      "/home/sylvain/focus/ipython/ipykernel/ipykernel/__main__.py:22: DeprecationWarning: on_trait_change is deprecated: use observe instead\n"
     ]
    }
   ],
   "source": [
    "def on_changed(name, value):\n",
    "    #if len(m.layers) > 0:\n",
    "    #    m.remove_layer(m.layers[-1])\n",
    "    colors = data_to_colors(tract_data[x.value], colormap=mpl.cm.Reds)\n",
    "    cols = {}\n",
    "    for i in range(len(tracts)):\n",
    "        cols[tracts[i][4:]] = colors[i]\n",
    "    for feature in data['features']:\n",
    "        try:\n",
    "            style_col = cols[feature['properties']['tractce10']]\n",
    "        except KeyError:\n",
    "            style_col = 'grey'\n",
    "        feature['properties']['style'] = {\n",
    "            'color': style_col,\n",
    "            'weight': 1,\n",
    "            'fillColor': style_col,\n",
    "            'fillOpacity':0.75,\n",
    "        }\n",
    "    g = GeoJSON(data=data)\n",
    "    m.layers = [m.layers[0], g]\n",
    "    \n",
    "x.on_trait_change(on_changed, 'value')"
   ]
  },
  {
   "cell_type": "code",
   "execution_count": 67,
   "metadata": {
    "collapsed": false
   },
   "outputs": [],
   "source": [
    "m.layout.align_self = 'stretch'\n",
    "display(VBox([m, x]))"
   ]
  }
 ],
 "metadata": {
  "kernelspec": {
   "display_name": "Python 3",
   "language": "python",
   "name": "python3"
  },
  "language_info": {
   "codemirror_mode": {
    "name": "ipython",
    "version": 3
   },
   "file_extension": ".py",
   "mimetype": "text/x-python",
   "name": "python",
   "nbconvert_exporter": "python",
   "pygments_lexer": "ipython3",
   "version": "3.4.4"
  },
  "widgets": {
   "state": {
    "0323b82a1fae4f089ded6df4c5c7fdad": {
     "views": []
    },
    "06b4ade61a684e99877a9a5d085df929": {
     "views": []
    },
    "1176c642e0ef48fc9168eae84f73b207": {
     "views": []
    },
    "1268ef5f4a9a4573870b3996d1f998a2": {
     "views": []
    },
    "12b35f8397e0433aaca3db97bc4d6905": {
     "views": []
    },
    "13ae39e8cbd04e129a1a5a35dae3886c": {
     "views": []
    },
    "202ff11b6b6349f88e85cae801bd51c7": {
     "views": []
    },
    "23ecdaee260b43e3bae42ac47567c835": {
     "views": [
      {
       "cell": {
        "cell_type": "code",
        "execution_count": 67,
        "metadata": {
         "collapsed": false,
         "trusted": true
        },
        "outputs": [],
        "source": "m.layout.align_self = 'stretch'\ndisplay(VBox([m, x]))"
       },
       "cell_index": 23,
       "root": true
      }
     ]
    },
    "250a90611faa45e499e4f604f14dfac6": {
     "views": []
    },
    "2a5fd5a1f40d410b81cf7af7516ff7f3": {
     "views": []
    },
    "2ac7ea1ff2f5445199a9d259f2d8d8a1": {
     "views": []
    },
    "2e28e6952b0140538be966e75f792824": {
     "views": []
    },
    "332486199a4e4a3c8104878f34bd905d": {
     "views": []
    },
    "33ae3413b20a4f53a39f5de94cc97025": {
     "views": []
    },
    "3c1a74c552cd4243a4ab9d7ee81a8714": {
     "views": []
    },
    "3d635a0af6a54290aaccd8548a534d1f": {
     "views": []
    },
    "4f80e01829cc4e4c861628e8e64bdae3": {
     "views": []
    },
    "5530c0b619134f24a0bb6ce963f2a479": {
     "views": []
    },
    "5632f85d1a474303b309e29f3778eb1f": {
     "views": []
    },
    "65def18835ed4ad1b18f40a9d5740f1a": {
     "views": []
    },
    "6d87c74a298b4d13b6b2d871e9fe9820": {
     "views": []
    },
    "6e1e288f106f46109aab711b709a9b5b": {
     "views": []
    },
    "796d265c010f4f13a408f023d6aaf1ce": {
     "views": []
    },
    "7c4de542f9f54ad4aef80e99e881f6e9": {
     "views": []
    },
    "7ca61957d6d647b48709e69a265a4e08": {
     "views": []
    },
    "87e8678aa09b4ea49edfe20a271ed692": {
     "views": []
    },
    "993ce6651ad3434c87a03ee02d052653": {
     "views": []
    },
    "a70a3150d6ca441791bb9bbfa284270e": {
     "views": []
    },
    "abaa36fa3b6144709b049c08e1238298": {
     "views": []
    },
    "b688fa2c078948b39a4fd99d4b13a2cf": {
     "views": []
    },
    "b7b377b430874711904834818125c8ff": {
     "views": []
    },
    "b947a8906ed349a1bb0e4752b260ea1f": {
     "views": []
    },
    "c3d10ac8f82949b383423477c286109b": {
     "views": []
    },
    "c5867cf215834f3e973ff879d31f2295": {
     "views": []
    },
    "d5cd0dc167d6481e8ac40d5f15f65c1a": {
     "views": []
    },
    "de8a2a90a71f4228bd18cae20a9f25c6": {
     "views": [
      {
       "cell": {
        "cell_type": "code",
        "execution_count": 51,
        "metadata": {
         "collapsed": true,
         "trusted": true
        },
        "outputs": [],
        "source": "m1"
       },
       "cell_index": 10,
       "root": true
      }
     ]
    },
    "ee119ec9a23646f4b14b03518ad4e019": {
     "views": []
    },
    "eeeeef7517d64c7394da8c0fdef44477": {
     "views": []
    },
    "f575f70371eb4111b53fec411c9702fd": {
     "views": []
    },
    "f699a7ad0f574a67bc8340ba062838b3": {
     "views": []
    },
    "fbba710fb5cc48f58f9fe0365c37ce14": {
     "views": []
    },
    "fbf25217a01343b180ef1c103110a386": {
     "views": []
    }
   },
   "version": "1.0.0"
  }
 },
 "nbformat": 4,
 "nbformat_minor": 1
}
