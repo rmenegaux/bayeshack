{
 "cells": [
  {
   "cell_type": "code",
   "execution_count": null,
   "metadata": {
    "collapsed": true
   },
   "outputs": [],
   "source": [
    "import pandas as pd\n",
    "import numpy as np"
   ]
  },
  {
   "cell_type": "code",
   "execution_count": null,
   "metadata": {
    "collapsed": false
   },
   "outputs": [],
   "source": [
    "import re\n",
    "dict_file = '../data/survey/7041-1996-2015_City_Survey_DataSF.xlsx'\n",
    "data_dict = pd.read_excel(dict_file, 0, skiprows=3)\n",
    "data_dict['Variable'] = data_dict['Variable'].str.replace('\\n', '') \n",
    "data_dict = data_dict.set_index('Variable')\n",
    "\n",
    "#keep only questions which have FDCBA grades\n",
    "data_dict1 = data_dict.ix[['id', 'year', 'finweigh', 'zipcode', 'district', 'region']]\n",
    "data_dict2 = data_dict[data_dict['Value Labels'].str.contains('F-Failing', flags=re.IGNORECASE).fillna(False)]\n",
    "# remove column 'swcndnbd' as it's not present in data csv\n",
    "data_dict2 = data_dict2.drop('swcndnbd')\n",
    "data_dict = pd.concat([data_dict1, data_dict2])"
   ]
  },
  {
   "cell_type": "code",
   "execution_count": null,
   "metadata": {
    "collapsed": false,
    "scrolled": true
   },
   "outputs": [],
   "source": [
    "survey_df = pd.read_csv('../data/survey/San_Francisco_City_Survey_Data_1996-2015.csv')\n",
    "\n",
    "# keep only valid cols\n",
    "survey_df = survey_df[list(set(data_dict.index) & set(survey_df.columns))]\n",
    "\n",
    "# remove values of 6 and 7 (dont know, not provided responses)\n",
    "replace_dict = {col: {6: np.nan, 7: np.nan} for col in data_dict2.index}\n",
    "survey_df = survey_df.replace(replace_dict)\n",
    "\n",
    "# consider data only from 2009 - 2015\n",
    "survey_df = survey_df[survey_df['year'].isin([2009, 2011, 2013, 2015])]\n",
    "\n",
    "# consider only 941XX zip codes for SF city\n",
    "survey_df = survey_df[(survey_df['zipcode'] > 94100) & (survey_df['zipcode'] < 94200)]\n",
    "print survey_df.shape"
   ]
  },
  {
   "cell_type": "code",
   "execution_count": null,
   "metadata": {
    "collapsed": false
   },
   "outputs": [],
   "source": [
    "cat_qs_counts = data_dict2['Category'].value_counts()\n",
    "cat_qs_counts"
   ]
  },
  {
   "cell_type": "code",
   "execution_count": null,
   "metadata": {
    "collapsed": false
   },
   "outputs": [],
   "source": [
    "## weight for each category is the count of the number of questions\n",
    "# weights = [cat_qs_counts[data_dict2.ix[col, 'Category']] for col in data_dict2.index]\n",
    "\n",
    "# weight_mat = survey_df[data_dict2.index].notnull() * weights\n",
    "# satisfaction_scores = (weight_mat * survey_df[data_dict2.index]).sum(axis=1) / weight_mat.sum(axis=1)\n",
    "# scores_by_zip = satisfaction_scores.groupby(survey_df['zipcode']).mean()"
   ]
  },
  {
   "cell_type": "code",
   "execution_count": null,
   "metadata": {
    "collapsed": true
   },
   "outputs": [],
   "source": [
    "## weight for each category is the count of the number of questions\n",
    "weights = [cat_qs_counts[data_dict2.ix[col, 'Category']] for col in data_dict2.index]\n",
    "\n",
    "# weight_mat = survey_df[data_dict2.index].notnull() / weights\n",
    "satisfaction_scores = (survey_df[data_dict2.index] / weights).sum(axis=1) \n",
    "scores_by_zip = satisfaction_scores.groupby(survey_df['zipcode']).mean()"
   ]
  },
  {
   "cell_type": "code",
   "execution_count": null,
   "metadata": {
    "collapsed": false
   },
   "outputs": [],
   "source": [
    "scores_by_zip.sort_values()"
   ]
  },
  {
   "cell_type": "code",
   "execution_count": null,
   "metadata": {
    "collapsed": false
   },
   "outputs": [],
   "source": [
    "scores_by_zip.index = scores_by_zip.index.map(lambda x: int(x))\n",
    "scores_by_zip"
   ]
  },
  {
   "cell_type": "code",
   "execution_count": null,
   "metadata": {
    "collapsed": true
   },
   "outputs": [],
   "source": [
    "# scores_by_zip.to_csv('/Users/chakri/bayeshack/analysis_data/scores_by_zipcodes.csv')"
   ]
  }
 ],
 "metadata": {
  "kernelspec": {
   "display_name": "Python 2",
   "language": "python",
   "name": "python2"
  },
  "language_info": {
   "codemirror_mode": {
    "name": "ipython",
    "version": 2
   },
   "file_extension": ".py",
   "mimetype": "text/x-python",
   "name": "python",
   "nbconvert_exporter": "python",
   "pygments_lexer": "ipython2",
   "version": "2.7.11"
  },
  "widgets": {
   "state": {},
   "version": "0.3.0"
  }
 },
 "nbformat": 4,
 "nbformat_minor": 0
}
