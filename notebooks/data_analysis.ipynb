{
 "cells": [
  {
   "cell_type": "code",
   "execution_count": 1,
   "metadata": {
    "collapsed": true
   },
   "outputs": [],
   "source": [
    "from __future__ import print_function\n",
    "import pandas as pd\n",
    "import numpy as np\n",
    "import ipywidgets"
   ]
  },
  {
   "cell_type": "code",
   "execution_count": 2,
   "metadata": {
    "collapsed": false
   },
   "outputs": [],
   "source": [
    "import re\n",
    "dict_file = '../data/survey/7041-1996-2015_City_Survey_DataSF.xlsx'\n",
    "data_dict = pd.read_excel(dict_file, 0, skiprows=3)\n",
    "data_dict['Variable'] = data_dict['Variable'].str.replace('\\n', '') \n",
    "data_dict = data_dict.set_index('Variable')\n",
    "\n",
    "#keep only questions which have FDCBA grades\n",
    "data_dict1 = data_dict.ix[['id', 'year', 'finweigh', 'zipcode', 'district', 'region']]\n",
    "data_dict2 = data_dict[data_dict['Value Labels'].str.contains('F-Failing', flags=re.IGNORECASE).fillna(False)]\n",
    "# remove column 'swcndnbd' as it's not present in data csv\n",
    "data_dict2 = data_dict2.drop('swcndnbd')\n",
    "data_dict = pd.concat([data_dict1, data_dict2])"
   ]
  },
  {
   "cell_type": "code",
   "execution_count": 3,
   "metadata": {
    "collapsed": false,
    "scrolled": true
   },
   "outputs": [
    {
     "name": "stdout",
     "output_type": "stream",
     "text": [
      "(10271, 60)\n"
     ]
    },
    {
     "name": "stderr",
     "output_type": "stream",
     "text": [
      "/home/sylvain/focus/ipython/ipython/IPython/core/interactiveshell.py:2719: DtypeWarning: Columns (181,183,214) have mixed types. Specify dtype option on import or set low_memory=False.\n",
      "  interactivity=interactivity, compiler=compiler, result=result)\n"
     ]
    }
   ],
   "source": [
    "survey_df = pd.read_csv('../data/survey/San_Francisco_City_Survey_Data_1996-2015.csv')\n",
    "\n",
    "# keep only valid cols\n",
    "survey_df = survey_df[list(set(data_dict.index) & set(survey_df.columns))]\n",
    "\n",
    "# remove values of 6 and 7 (dont know, not provided responses)\n",
    "replace_dict = {col: {6: np.nan, 7: np.nan} for col in data_dict2.index}\n",
    "survey_df = survey_df.replace(replace_dict)\n",
    "\n",
    "# consider data only from 2009 - 2015\n",
    "survey_df = survey_df[survey_df['year'].isin([2009, 2011, 2013, 2015])]\n",
    "\n",
    "# consider only 941XX zip codes for SF city\n",
    "survey_df = survey_df[(survey_df['zipcode'] > 94100) & (survey_df['zipcode'] < 94200)]\n",
    "print(survey_df.shape)"
   ]
  },
  {
   "cell_type": "code",
   "execution_count": 4,
   "metadata": {
    "collapsed": false
   },
   "outputs": [
    {
     "data": {
      "text/plain": [
       "Recreation and Parks     14\n",
       "City Services General    11\n",
       "Infrastructure           11\n",
       "Libraries                 9\n",
       "Transportation            8\n",
       "Children and Families     1\n",
       "Name: Category, dtype: int64"
      ]
     },
     "execution_count": 4,
     "metadata": {},
     "output_type": "execute_result"
    }
   ],
   "source": [
    "cat_qs_counts = data_dict2['Category'].value_counts()\n",
    "cat_qs_counts"
   ]
  },
  {
   "cell_type": "code",
   "execution_count": 5,
   "metadata": {
    "collapsed": false
   },
   "outputs": [],
   "source": [
    "weights = [cat_qs_counts[data_dict2.ix[col, 'Category']] for col in data_dict2.index]\n",
    "weight_mat = survey_df[data_dict2.index].notnull() * weights\n",
    "satisfaction_scores = (weight_mat * survey_df[data_dict2.index]).sum(axis=1) / weight_mat.sum(axis=1)\n",
    "scores_by_zip = satisfaction_scores.groupby(survey_df['zipcode']).mean()"
   ]
  },
  {
   "cell_type": "code",
   "execution_count": 6,
   "metadata": {
    "collapsed": false
   },
   "outputs": [
    {
     "data": {
      "text/plain": [
       "zipcode\n",
       "94133    3.241308\n",
       "94130    3.251165\n",
       "94134    3.316474\n",
       "94124    3.338728\n",
       "94109    3.346500\n",
       "94102    3.350423\n",
       "94105    3.364550\n",
       "94121    3.367709\n",
       "94103    3.368794\n",
       "94132    3.372073\n",
       "94122    3.373936\n",
       "94112    3.389812\n",
       "94131    3.396762\n",
       "94126    3.401733\n",
       "94110    3.404274\n",
       "94118    3.412923\n",
       "94127    3.429824\n",
       "94115    3.444461\n",
       "94107    3.447126\n",
       "94117    3.467985\n",
       "94116    3.468903\n",
       "94125    3.469477\n",
       "94108    3.474260\n",
       "94111    3.479376\n",
       "94114    3.482407\n",
       "94101    3.483300\n",
       "94158    3.484634\n",
       "94119    3.495446\n",
       "94123    3.501281\n",
       "94106    3.520606\n",
       "94120    3.529241\n",
       "94113    3.530031\n",
       "94104    3.547924\n",
       "94129    3.583616\n",
       "dtype: float64"
      ]
     },
     "execution_count": 6,
     "metadata": {},
     "output_type": "execute_result"
    }
   ],
   "source": [
    "scores_by_zip.sort_values()"
   ]
  },
  {
   "cell_type": "code",
   "execution_count": 7,
   "metadata": {
    "collapsed": true
   },
   "outputs": [],
   "source": [
    "from ipyleaflet import *"
   ]
  },
  {
   "cell_type": "code",
   "execution_count": 8,
   "metadata": {
    "collapsed": true
   },
   "outputs": [],
   "source": [
    "m = Map(center=[37.7749, -122.34580993652344], zoom=12, layout=Layout(height='600px'))"
   ]
  },
  {
   "cell_type": "code",
   "execution_count": 18,
   "metadata": {
    "collapsed": false
   },
   "outputs": [],
   "source": [
    "import matplotlib as mpl\n",
    "import matplotlib.cm\n",
    "import matplotlib.colors\n",
    "import numpy as np\n",
    "\n",
    "def n_colors(n, colormap=mpl.cm.Blues):\n",
    "    data = np.linspace(0.0,1.0,n)\n",
    "    c = [mpl.colors.rgb2hex(d[0:3]) for d in colormap(data)]\n",
    "    return c\n",
    "\n",
    "def data_to_colors(data, colormap=mpl.cm.plasma):\n",
    "    c = [mpl.colors.rgb2hex(d[0:3]) for d in colormap(mpl.colors.Normalize()(data))]\n",
    "    return c"
   ]
  },
  {
   "cell_type": "code",
   "execution_count": 19,
   "metadata": {
    "collapsed": false
   },
   "outputs": [],
   "source": [
    "zips = [str(int(i)) for i in scores_by_zip.index]"
   ]
  },
  {
   "cell_type": "code",
   "execution_count": 20,
   "metadata": {
    "collapsed": true
   },
   "outputs": [],
   "source": [
    "colors = data_to_colors(scores_by_zip.values)"
   ]
  },
  {
   "cell_type": "code",
   "execution_count": 21,
   "metadata": {
    "collapsed": false
   },
   "outputs": [],
   "source": [
    "cols = {}\n",
    "for i in range(len(zips)):\n",
    "    cols[zips[i]] = colors[i]"
   ]
  },
  {
   "cell_type": "code",
   "execution_count": 22,
   "metadata": {
    "collapsed": true
   },
   "outputs": [],
   "source": [
    "import json\n",
    "with open('./../mapdata/sf_zipcodes.geojson') as f:\n",
    "    data = json.load(f)"
   ]
  },
  {
   "cell_type": "code",
   "execution_count": 23,
   "metadata": {
    "collapsed": false
   },
   "outputs": [],
   "source": [
    "for feature in data['features']:\n",
    "    feature['properties']['style'] = {\n",
    "        'color':cols[feature['id']],\n",
    "        'weight': 1,\n",
    "        'fillColor':cols[feature['id']],\n",
    "        'fillOpacity':0.75,\n",
    "    }"
   ]
  },
  {
   "cell_type": "code",
   "execution_count": 24,
   "metadata": {
    "collapsed": true
   },
   "outputs": [],
   "source": [
    "g = GeoJSON(data=data)"
   ]
  },
  {
   "cell_type": "code",
   "execution_count": 25,
   "metadata": {
    "collapsed": true
   },
   "outputs": [],
   "source": [
    "m += g"
   ]
  },
  {
   "cell_type": "code",
   "execution_count": 26,
   "metadata": {
    "collapsed": false
   },
   "outputs": [],
   "source": [
    "m"
   ]
  },
  {
   "cell_type": "code",
   "execution_count": 21,
   "metadata": {
    "collapsed": true
   },
   "outputs": [],
   "source": [
    "def click_handler(event=None, id=None, properties=None):\n",
    "    print(properties, event, id)\n",
    "\n",
    "g.on_click(click_handler)"
   ]
  },
  {
   "cell_type": "code",
   "execution_count": null,
   "metadata": {
    "collapsed": true
   },
   "outputs": [],
   "source": []
  }
 ],
 "metadata": {
  "kernelspec": {
   "display_name": "Python 3",
   "language": "python",
   "name": "python3"
  },
  "language_info": {
   "codemirror_mode": {
    "name": "ipython",
    "version": 3
   },
   "file_extension": ".py",
   "mimetype": "text/x-python",
   "name": "python",
   "nbconvert_exporter": "python",
   "pygments_lexer": "ipython3",
   "version": "3.4.4"
  },
  "widgets": {
   "state": {
    "052ea2a041ef4448b38e37a12f080378": {
     "views": []
    },
    "0a35d9cde0b3400bbbff2cf836ba1da0": {
     "views": []
    },
    "15c828b5d2864a588b274eb39e7ee0c9": {
     "views": []
    },
    "1b4718ab2bf64912a6494c93d44d8a8b": {
     "views": []
    },
    "2ad8be637e2b4572ae776c7dd29224de": {
     "views": []
    },
    "2edfcdde015e43b3b5839cc1ce8e0fcb": {
     "views": []
    },
    "31805655fd694c36b8799db55ebd45db": {
     "views": []
    },
    "33a5dcb26dd949889dd423a810ebb5c6": {
     "views": []
    },
    "35503f8b1a4b40d3ad4d713c24b5f5cb": {
     "views": []
    },
    "441b00d9f7a54bc28991d2714063a89a": {
     "views": []
    },
    "4a810c25efb44115bafde301d037f002": {
     "views": []
    },
    "4f84ef1a7c1e4f8ba4e233bbd2b397b1": {
     "views": []
    },
    "5462ad4649c14f3fa50ca6d08b4f62d6": {
     "views": []
    },
    "582851062fa6472a8c9422843a70e99c": {
     "views": []
    },
    "5d2ed67b0acc4e79a30579deff57a0d6": {
     "views": []
    },
    "663710e386834a5fa2152e57ab812910": {
     "views": []
    },
    "6ad947afcf1d472fa5c8b5d1e4c19ef8": {
     "views": [
      {
       "cell": {
        "cell_type": "code",
        "execution_count": 26,
        "metadata": {
         "collapsed": false,
         "trusted": true
        },
        "outputs": [],
        "source": "m"
       },
       "cell_index": 16,
       "root": true
      }
     ]
    },
    "6b0ccf37078f42519be10525d26626a7": {
     "views": []
    },
    "6c6480f8142044e3bf2d1c076218f686": {
     "views": []
    },
    "6d76fcddbb8147e7aeeea42e3ae5b3a2": {
     "views": []
    },
    "82d066fde27e44a7b796eaabdfd66b58": {
     "views": []
    },
    "86dfd48356074001bd10174dbe92850e": {
     "views": []
    },
    "941992b9a3bb42f6afbef9bc2b78d7ef": {
     "views": []
    },
    "9ac21da8e4df4733bf991d0ea3204677": {
     "views": []
    },
    "9ce0169031244c7684905c54791dfcb5": {
     "views": []
    },
    "a3bbe232fd64411db8f90377b805b7d2": {
     "views": []
    },
    "ae2f8a6339a340cab5fdfd7705893493": {
     "views": []
    },
    "b1a740a1570f4aae93b1edd1117240dd": {
     "views": []
    },
    "b81ee64327074e5f9977584996278c83": {
     "views": []
    },
    "c305b69d4bf74d64b024fd3192ebc803": {
     "views": []
    },
    "ca1fcf269cc343e3b802c2070c1d44b1": {
     "views": []
    },
    "f5ccb147ef8c4cc8a3ca0e2d9ed8113f": {
     "views": []
    }
   },
   "version": "1.0.0"
  }
 },
 "nbformat": 4,
 "nbformat_minor": 1
}
