{
 "cells": [
  {
   "cell_type": "code",
   "execution_count": 1,
   "metadata": {
    "collapsed": false
   },
   "outputs": [
    {
     "name": "stdout",
     "output_type": "stream",
     "text": [
      "27\n"
     ]
    },
    {
     "name": "stderr",
     "output_type": "stream",
     "text": [
      "Widget Javascript not detected.  It may not be installed properly.\n"
     ]
    }
   ],
   "source": [
    "from __future__ import print_function\n",
    "import matplotlib as mpl\n",
    "import matplotlib.cm\n",
    "import matplotlib.colors\n",
    "import numpy as np\n",
    "from IPython.display import display\n",
    "\n",
    "from ipyleaflet import *\n",
    "\n",
    "m = Map(center=[37.7749, -122.34580993652344], zoom=12)\n",
    "\n",
    "def n_colors(n, colormap=mpl.cm.Blues):\n",
    "    data = np.linspace(0.0,1.0,n)\n",
    "    c = [mpl.colors.rgb2hex(d[0:3]) for d in colormap(data)]\n",
    "    return c\n",
    "\n",
    "def data_to_colors(data, colormap=mpl.cm.Blues):\n",
    "    c = [mpl.colors.rgb2hex(d[0:3]) for d in colormap(mpl.colors.Normalize()(data))]\n",
    "    return c\n",
    "\n",
    "import json\n",
    "\n",
    "with open('./../mapdata/sf_zipcodes.geojson') as f:\n",
    "    data = json.load(f)\n",
    "    \n",
    "n_features = len(data['features'])\n",
    "colors = n_colors(n_features)\n",
    "print(n_features)\n",
    "\n",
    "for feature, color in zip(data['features'], colors):\n",
    "    feature['properties']['style'] = {\n",
    "        'color':color,\n",
    "        'weight': 1,\n",
    "        'fillColor':color,\n",
    "        'fillOpacity': 0.4\n",
    "    }\n",
    "\n",
    "g = GeoJSON(data=data)\n",
    "\n",
    "m.add_layer(g)\n",
    "\n",
    "def click_handler(event=None, id=None, properties=None):\n",
    "    print(properties, event, id)\n",
    "\n",
    "g.on_click(click_handler)\n",
    "g.hover_style = {'fillColor': 'red'}\n",
    "\n",
    "display(m)"
   ]
  },
  {
   "cell_type": "code",
   "execution_count": 2,
   "metadata": {
    "collapsed": true
   },
   "outputs": [],
   "source": [
    "with open('./../mapdata/bayarea_nosf_zipcodes.geojson') as f:\n",
    "    bay_data = json.load(f)\n",
    "    \n",
    "n_features = len(bay_data['features'])\n",
    "colors = n_colors(n_features, colormap=mpl.cm.Greys)\n",
    "\n",
    "for feature, color in zip(bay_data['features'], colors):\n",
    "    feature['properties']['style'] = {\n",
    "        'color': 'gray',\n",
    "        'weight': 1,\n",
    "        'fillColor': 'gray',\n",
    "        'fillOpacity': 0.2\n",
    "    }\n",
    "\n",
    "g_bay = GeoJSON(data=bay_data)\n",
    "\n",
    "g_bay.hover_style = {'fillColor': 'red'}\n",
    "\n",
    "m.add_layer(g_bay)"
   ]
  },
  {
   "cell_type": "code",
   "execution_count": null,
   "metadata": {
    "collapsed": true
   },
   "outputs": [],
   "source": []
  }
 ],
 "metadata": {
  "kernelspec": {
   "display_name": "Python 2",
   "language": "python",
   "name": "python2"
  },
  "language_info": {
   "codemirror_mode": {
    "name": "ipython",
    "version": 2
   },
   "file_extension": ".py",
   "mimetype": "text/x-python",
   "name": "python",
   "nbconvert_exporter": "python",
   "pygments_lexer": "ipython2",
   "version": "2.7.11"
  },
  "widgets": {
   "state": {
    "093092aa24e045f1b9623276e80bf611": {
     "views": []
    },
    "0a398aba16a04de4ada2e950f8ef5361": {
     "views": []
    },
    "0acebd3251e243299fd73d5763beda56": {
     "views": []
    },
    "1635e81290d14a2cb50b478d11ea751f": {
     "views": []
    },
    "1f5e16ad9b2f4615a1f547ce157a2141": {
     "views": []
    },
    "266887d869f847b186e4190a86f310af": {
     "views": []
    },
    "2de2798c7f8140f9a66229da62a2ea30": {
     "views": []
    },
    "2ef25685ca0e499c9dc11db256504f79": {
     "views": []
    },
    "3bcb1953b28447b7979e2313b9e20ab9": {
     "views": []
    },
    "42a216a3db9442779e66b47ab26addf8": {
     "views": []
    },
    "434f02cd370b4982be05de22fe4783e4": {
     "views": []
    },
    "4c0f95bd2fd1453a914500ba0024210f": {
     "views": []
    },
    "4edd214ad39b47a3940377457ea537d7": {
     "views": []
    },
    "5732bb6de11a49d4b68f71b7ad69a168": {
     "views": []
    },
    "58e7d686d0da4e209efe802febfc4156": {
     "views": []
    },
    "6dd1fc19ac304c5d8928c22b88daf574": {
     "views": []
    },
    "6e0175d564c049ee9a76a5a301b6d35a": {
     "views": []
    },
    "73ee839994bb4ebba3001061934ca5d3": {
     "views": []
    },
    "7ee74e157afd46f0aaae34c42a2692f4": {
     "views": []
    },
    "81f9df0a5956412cb5b4134a01d611da": {
     "views": []
    },
    "82d6289c71b44d848cd9a102f6d73d11": {
     "views": []
    },
    "854e7d337cf342969e63f7ec8bf9e59b": {
     "views": []
    },
    "8a180fe84b4341b09bc13b7ccce8927f": {
     "views": [
      {
       "cell_index": 0
      }
     ]
    },
    "9c127551b99245158c775ee874af3b02": {
     "views": []
    },
    "9c58f8ef49274b32a2678c77e87d8a14": {
     "views": []
    },
    "a7c3488b2dfc4d7d9bef53565f844750": {
     "views": []
    },
    "ad0bc45b8d1043c6a422b6378efc93a3": {
     "views": []
    },
    "ad45883e207a49bf835a811a19554a68": {
     "views": []
    },
    "bbd65f4967c645b8a3ecf8cb221a17e9": {
     "views": []
    },
    "c1a0b0cc6237489d82d03ff1cb54321b": {
     "views": []
    },
    "c2563e154dd94b4786e76c38c20c3605": {
     "views": []
    },
    "cd789c609f7748b6844bb9ed1a54b4ba": {
     "views": []
    },
    "d56145bdefd94ca685989a273a5c315f": {
     "views": []
    },
    "dab5ea18d9204f879d1e607818f878fb": {
     "views": []
    },
    "e92c3ce11ea04e80ad115ee14611876f": {
     "views": []
    },
    "e95c700ba83d423ba12d1c789104ea39": {
     "views": []
    }
   },
   "version": "1.0.0"
  }
 },
 "nbformat": 4,
 "nbformat_minor": 1
}
